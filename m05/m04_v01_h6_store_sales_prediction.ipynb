{
 "cells": [
  {
   "cell_type": "markdown",
   "metadata": {
    "id": "t8_Ql6npdiC-"
   },
   "source": [
    "# 0.0 IMPORTS"
   ]
  },
  {
   "cell_type": "code",
   "execution_count": 1,
   "metadata": {
    "id": "V2zzLCzHeS1c"
   },
   "outputs": [],
   "source": [
    "#from google.colab import drive\n",
    "#drive.mount('/content/drive')"
   ]
  },
  {
   "cell_type": "code",
   "execution_count": 2,
   "metadata": {
    "colab": {
     "base_uri": "https://localhost:8080/"
    },
    "id": "bozVUIRsdiDJ",
    "outputId": "6a8edb4e-0a65-4243-fc5f-5f0b9220d3ef"
   },
   "outputs": [
    {
     "name": "stdout",
     "output_type": "stream",
     "text": [
      "Requirement already satisfied: import-ipynb in /opt/conda/lib/python3.11/site-packages (0.1.4)\n",
      "Requirement already satisfied: IPython in /opt/conda/lib/python3.11/site-packages (from import-ipynb) (8.16.1)\n",
      "Requirement already satisfied: nbformat in /opt/conda/lib/python3.11/site-packages (from import-ipynb) (5.9.2)\n",
      "Requirement already satisfied: backcall in /opt/conda/lib/python3.11/site-packages (from IPython->import-ipynb) (0.2.0)\n",
      "Requirement already satisfied: decorator in /opt/conda/lib/python3.11/site-packages (from IPython->import-ipynb) (5.1.1)\n",
      "Requirement already satisfied: jedi>=0.16 in /opt/conda/lib/python3.11/site-packages (from IPython->import-ipynb) (0.19.1)\n",
      "Requirement already satisfied: matplotlib-inline in /opt/conda/lib/python3.11/site-packages (from IPython->import-ipynb) (0.1.6)\n",
      "Requirement already satisfied: pickleshare in /opt/conda/lib/python3.11/site-packages (from IPython->import-ipynb) (0.7.5)\n",
      "Requirement already satisfied: prompt-toolkit!=3.0.37,<3.1.0,>=3.0.30 in /opt/conda/lib/python3.11/site-packages (from IPython->import-ipynb) (3.0.39)\n",
      "Requirement already satisfied: pygments>=2.4.0 in /opt/conda/lib/python3.11/site-packages (from IPython->import-ipynb) (2.16.1)\n",
      "Requirement already satisfied: stack-data in /opt/conda/lib/python3.11/site-packages (from IPython->import-ipynb) (0.6.2)\n",
      "Requirement already satisfied: traitlets>=5 in /opt/conda/lib/python3.11/site-packages (from IPython->import-ipynb) (5.11.2)\n",
      "Requirement already satisfied: pexpect>4.3 in /opt/conda/lib/python3.11/site-packages (from IPython->import-ipynb) (4.8.0)\n",
      "Requirement already satisfied: fastjsonschema in /opt/conda/lib/python3.11/site-packages (from nbformat->import-ipynb) (2.18.1)\n",
      "Requirement already satisfied: jsonschema>=2.6 in /opt/conda/lib/python3.11/site-packages (from nbformat->import-ipynb) (4.19.1)\n",
      "Requirement already satisfied: jupyter-core in /opt/conda/lib/python3.11/site-packages (from nbformat->import-ipynb) (5.4.0)\n",
      "Requirement already satisfied: parso<0.9.0,>=0.8.3 in /opt/conda/lib/python3.11/site-packages (from jedi>=0.16->IPython->import-ipynb) (0.8.3)\n",
      "Requirement already satisfied: attrs>=22.2.0 in /opt/conda/lib/python3.11/site-packages (from jsonschema>=2.6->nbformat->import-ipynb) (23.1.0)\n",
      "Requirement already satisfied: jsonschema-specifications>=2023.03.6 in /opt/conda/lib/python3.11/site-packages (from jsonschema>=2.6->nbformat->import-ipynb) (2023.7.1)\n",
      "Requirement already satisfied: referencing>=0.28.4 in /opt/conda/lib/python3.11/site-packages (from jsonschema>=2.6->nbformat->import-ipynb) (0.30.2)\n",
      "Requirement already satisfied: rpds-py>=0.7.1 in /opt/conda/lib/python3.11/site-packages (from jsonschema>=2.6->nbformat->import-ipynb) (0.10.6)\n",
      "Requirement already satisfied: ptyprocess>=0.5 in /opt/conda/lib/python3.11/site-packages (from pexpect>4.3->IPython->import-ipynb) (0.7.0)\n",
      "Requirement already satisfied: wcwidth in /opt/conda/lib/python3.11/site-packages (from prompt-toolkit!=3.0.37,<3.1.0,>=3.0.30->IPython->import-ipynb) (0.2.8)\n",
      "Requirement already satisfied: platformdirs>=2.5 in /opt/conda/lib/python3.11/site-packages (from jupyter-core->nbformat->import-ipynb) (3.11.0)\n",
      "Requirement already satisfied: executing>=1.2.0 in /opt/conda/lib/python3.11/site-packages (from stack-data->IPython->import-ipynb) (1.2.0)\n",
      "Requirement already satisfied: asttokens>=2.1.0 in /opt/conda/lib/python3.11/site-packages (from stack-data->IPython->import-ipynb) (2.4.0)\n",
      "Requirement already satisfied: pure-eval in /opt/conda/lib/python3.11/site-packages (from stack-data->IPython->import-ipynb) (0.2.2)\n",
      "Requirement already satisfied: six>=1.12.0 in /opt/conda/lib/python3.11/site-packages (from asttokens>=2.1.0->stack-data->IPython->import-ipynb) (1.16.0)\n"
     ]
    }
   ],
   "source": [
    "!pip install import-ipynb"
   ]
  },
  {
   "cell_type": "code",
   "execution_count": 3,
   "metadata": {
    "colab": {
     "base_uri": "https://localhost:8080/"
    },
    "id": "kvfQyu9sdiDN",
    "outputId": "05102f92-d814-4843-8eb2-6895f44dc40d"
   },
   "outputs": [
    {
     "name": "stdout",
     "output_type": "stream",
     "text": [
      "Requirement already satisfied: inflection in /opt/conda/lib/python3.11/site-packages (0.5.1)\n"
     ]
    }
   ],
   "source": [
    "import pandas as pd\n",
    "!pip install inflection\n",
    "import inflection\n",
    "import math\n",
    "import numpy as np\n",
    "import seaborn as sns\n",
    "from IPython.core.display import HTML\n",
    "from IPython.display import Image\n",
    "#%matplotlib inline\n",
    "import matplotlib.pyplot as plt\n",
    "#plt.style.use('seaborn-white')\n",
    "\n",
    "import datetime\n",
    "#import import-ipynb #import-ipynb"
   ]
  },
  {
   "cell_type": "markdown",
   "metadata": {
    "id": "lSa6L5ILdiDO"
   },
   "source": [
    "# 0.1 Helper Functions"
   ]
  },
  {
   "cell_type": "code",
   "execution_count": 4,
   "metadata": {
    "id": "DUcG75U0diDP"
   },
   "outputs": [],
   "source": [
    "#!pip install inflection==0.5.1"
   ]
  },
  {
   "cell_type": "code",
   "execution_count": 5,
   "metadata": {
    "colab": {
     "base_uri": "https://localhost:8080/"
    },
    "id": "pX04WvWHdiDP",
    "outputId": "163655a3-4adc-4c10-fa9b-1e6ac432a4d0"
   },
   "outputs": [
    {
     "name": "stdout",
     "output_type": "stream",
     "text": [
      "inflection==0.5.1\n"
     ]
    }
   ],
   "source": [
    "!pip freeze | grep inflec"
   ]
  },
  {
   "cell_type": "code",
   "execution_count": 6,
   "metadata": {
    "colab": {
     "base_uri": "https://localhost:8080/"
    },
    "id": "3UWEvxI9diDP",
    "outputId": "056300ab-c2c3-461f-b459-b894cc2c6ece"
   },
   "outputs": [
    {
     "name": "stdout",
     "output_type": "stream",
     "text": [
      "import-ipynb==0.1.4\n"
     ]
    }
   ],
   "source": [
    "#import-ipynb\n",
    "!pip freeze | grep import-ipynb"
   ]
  },
  {
   "cell_type": "markdown",
   "metadata": {
    "id": "UrbVwGmCdiDP"
   },
   "source": [
    "## 0.1 Helper Functions"
   ]
  },
  {
   "cell_type": "code",
   "execution_count": 7,
   "metadata": {
    "id": "KQh3fb0wdiDQ"
   },
   "outputs": [],
   "source": [
    "def jupyter_settings():\n",
    "    %matplotlib inline\n",
    "    #%pylab inline\n",
    "\n",
    "    plt.style.use('bmh')\n",
    "    plt.rcParams['figure.figsize']=[25,12]\n",
    "    plt.rcParams['font.size']=24\n",
    "\n",
    "    display(HTML('<style>.container {width:100% !important;}</style>'))\n",
    "    pd.options.display.max_columns = None\n",
    "    pd.options.display.max_rows = None\n",
    "    pd.set_option('display.expand_frame_repr', False)\n",
    "\n",
    "    sns.set()"
   ]
  },
  {
   "cell_type": "code",
   "execution_count": 8,
   "metadata": {
    "colab": {
     "base_uri": "https://localhost:8080/",
     "height": 17
    },
    "id": "edm8sRErdiDR",
    "outputId": "a5481d03-01ab-4182-df96-c4818dce3c78"
   },
   "outputs": [
    {
     "data": {
      "text/html": [
       "<style>.container {width:100% !important;}</style>"
      ],
      "text/plain": [
       "<IPython.core.display.HTML object>"
      ]
     },
     "metadata": {},
     "output_type": "display_data"
    }
   ],
   "source": [
    "jupyter_settings()"
   ]
  },
  {
   "cell_type": "markdown",
   "metadata": {
    "id": "CJYFGfOndiDS",
    "jp-MarkdownHeadingCollapsed": true
   },
   "source": [
    "# 0.2 Loading Data"
   ]
  },
  {
   "cell_type": "code",
   "execution_count": 9,
   "metadata": {
    "colab": {
     "base_uri": "https://localhost:8080/"
    },
    "id": "8iyjEdgFdiDT",
    "outputId": "2e6c2e07-0f08-46ba-c2b5-ad5f517ce491"
   },
   "outputs": [
    {
     "name": "stdout",
     "output_type": "stream",
     "text": [
      "../Rossmann-Store-Sales-Prediction/dataset/store.csv\n"
     ]
    }
   ],
   "source": [
    "!ls ../Rossmann-Store-Sales-Prediction/dataset/store.csv"
   ]
  },
  {
   "cell_type": "code",
   "execution_count": 10,
   "metadata": {
    "colab": {
     "base_uri": "https://localhost:8080/"
    },
    "id": "AhkuU5t9diDV",
    "outputId": "db0916f2-c7ea-4b3e-ec1a-b5952456ac2d"
   },
   "outputs": [
    {
     "name": "stdout",
     "output_type": "stream",
     "text": [
      "../data_set/stores.csv\n"
     ]
    }
   ],
   "source": [
    "!ls ../data_set/stores.csv"
   ]
  },
  {
   "cell_type": "code",
   "execution_count": 11,
   "metadata": {
    "id": "Wf1l4PYRdiDW"
   },
   "outputs": [],
   "source": [
    "# print(\"read_csv(\"data_set/stores.csv)\")\n",
    "# pd.read_csv(\"Rossmann-Store-Sales-Prediction/dataset/train.csv\", low_memory=False)\n",
    "#df_sales_raw=pd.read_csv(\"Rossmann-Store-Sales-Prediction/dataset/train.csv\", low_memory=False)\n",
    "\n",
    "#pd.read_csv(\"Rossmann-Store-Sales-Prediction/dataset/store.csv\", low_memory=False)\n",
    "#pd.read_csv(\"../dataset/stores.csv\", low_memory=False)\n",
    "df_train_raw=pd.read_csv(\"../Rossmann-Store-Sales-Prediction/dataset/train.csv\", low_memory=False)\n",
    "#df_train_raw=pd.read_csv(\"/content/drive/MyDrive/dataset/train.csv\", low_memory=False)\n",
    "df_store_raw=pd.read_csv(\"../Rossmann-Store-Sales-Prediction/dataset/store.csv\", low_memory=False)\n",
    "#df_store_raw=pd.read_csv(\"/content/drive/MyDrive/dataset/store.csv\", low_memory=False)\n",
    "#df_store_raw=pd.read_csv(\"../Rossmann-Store-Sales-Prediction/dataset/stores.csv\", low_memory=False)\n",
    "# /home/cab/ds_in_deploy/Rossmann-Store-Sales-Prediction/dataset"
   ]
  },
  {
   "cell_type": "code",
   "execution_count": 12,
   "metadata": {
    "colab": {
     "base_uri": "https://localhost:8080/",
     "height": 80
    },
    "id": "CojaLdztdiDX",
    "outputId": "509a78d6-e664-4a70-f8d6-6dc377233b21"
   },
   "outputs": [
    {
     "data": {
      "text/html": [
       "<div>\n",
       "<style scoped>\n",
       "    .dataframe tbody tr th:only-of-type {\n",
       "        vertical-align: middle;\n",
       "    }\n",
       "\n",
       "    .dataframe tbody tr th {\n",
       "        vertical-align: top;\n",
       "    }\n",
       "\n",
       "    .dataframe thead th {\n",
       "        text-align: right;\n",
       "    }\n",
       "</style>\n",
       "<table border=\"1\" class=\"dataframe\">\n",
       "  <thead>\n",
       "    <tr style=\"text-align: right;\">\n",
       "      <th></th>\n",
       "      <th>Store</th>\n",
       "      <th>DayOfWeek</th>\n",
       "      <th>Date</th>\n",
       "      <th>Sales</th>\n",
       "      <th>Customers</th>\n",
       "      <th>Open</th>\n",
       "      <th>Promo</th>\n",
       "      <th>StateHoliday</th>\n",
       "      <th>SchoolHoliday</th>\n",
       "      <th>Id</th>\n",
       "    </tr>\n",
       "  </thead>\n",
       "  <tbody>\n",
       "    <tr>\n",
       "      <th>527619</th>\n",
       "      <td>1010</td>\n",
       "      <td>7</td>\n",
       "      <td>2014-03-02</td>\n",
       "      <td>0</td>\n",
       "      <td>0</td>\n",
       "      <td>0</td>\n",
       "      <td>0</td>\n",
       "      <td>0</td>\n",
       "      <td>0</td>\n",
       "      <td>740827</td>\n",
       "    </tr>\n",
       "  </tbody>\n",
       "</table>\n",
       "</div>"
      ],
      "text/plain": [
       "        Store  DayOfWeek        Date  Sales  Customers  Open  Promo StateHoliday  SchoolHoliday      Id\n",
       "527619   1010          7  2014-03-02      0          0     0      0            0              0  740827"
      ]
     },
     "execution_count": 12,
     "metadata": {},
     "output_type": "execute_result"
    }
   ],
   "source": [
    "df_train_raw.sample()"
   ]
  },
  {
   "cell_type": "code",
   "execution_count": 13,
   "metadata": {
    "colab": {
     "base_uri": "https://localhost:8080/",
     "height": 100
    },
    "id": "syQk-q_bdiDX",
    "outputId": "db97303b-25a6-4e78-a63c-dd53da6f6951"
   },
   "outputs": [
    {
     "data": {
      "text/html": [
       "<div>\n",
       "<style scoped>\n",
       "    .dataframe tbody tr th:only-of-type {\n",
       "        vertical-align: middle;\n",
       "    }\n",
       "\n",
       "    .dataframe tbody tr th {\n",
       "        vertical-align: top;\n",
       "    }\n",
       "\n",
       "    .dataframe thead th {\n",
       "        text-align: right;\n",
       "    }\n",
       "</style>\n",
       "<table border=\"1\" class=\"dataframe\">\n",
       "  <thead>\n",
       "    <tr style=\"text-align: right;\">\n",
       "      <th></th>\n",
       "      <th>Store</th>\n",
       "      <th>StoreType</th>\n",
       "      <th>Assortment</th>\n",
       "      <th>CompetitionDistance</th>\n",
       "      <th>CompetitionOpenSinceMonth</th>\n",
       "      <th>CompetitionOpenSinceYear</th>\n",
       "      <th>Promo2</th>\n",
       "      <th>Promo2SinceWeek</th>\n",
       "      <th>Promo2SinceYear</th>\n",
       "      <th>PromoInterval</th>\n",
       "    </tr>\n",
       "  </thead>\n",
       "  <tbody>\n",
       "    <tr>\n",
       "      <th>1012</th>\n",
       "      <td>1013</td>\n",
       "      <td>a</td>\n",
       "      <td>a</td>\n",
       "      <td>630.0</td>\n",
       "      <td>2.0</td>\n",
       "      <td>2015.0</td>\n",
       "      <td>1</td>\n",
       "      <td>31.0</td>\n",
       "      <td>2013.0</td>\n",
       "      <td>Feb,May,Aug,Nov</td>\n",
       "    </tr>\n",
       "  </tbody>\n",
       "</table>\n",
       "</div>"
      ],
      "text/plain": [
       "      Store StoreType Assortment  CompetitionDistance  CompetitionOpenSinceMonth  CompetitionOpenSinceYear  Promo2  Promo2SinceWeek  Promo2SinceYear    PromoInterval\n",
       "1012   1013         a          a                630.0                        2.0                    2015.0       1             31.0           2013.0  Feb,May,Aug,Nov"
      ]
     },
     "execution_count": 13,
     "metadata": {},
     "output_type": "execute_result"
    }
   ],
   "source": [
    "df_store_raw.sample()"
   ]
  },
  {
   "cell_type": "code",
   "execution_count": 14,
   "metadata": {
    "colab": {
     "base_uri": "https://localhost:8080/",
     "height": 80
    },
    "id": "B-Wl__2mdiDY",
    "outputId": "ff9a832f-f2a0-4c87-a336-1f73f5b19a13"
   },
   "outputs": [
    {
     "data": {
      "text/html": [
       "<div>\n",
       "<style scoped>\n",
       "    .dataframe tbody tr th:only-of-type {\n",
       "        vertical-align: middle;\n",
       "    }\n",
       "\n",
       "    .dataframe tbody tr th {\n",
       "        vertical-align: top;\n",
       "    }\n",
       "\n",
       "    .dataframe thead th {\n",
       "        text-align: right;\n",
       "    }\n",
       "</style>\n",
       "<table border=\"1\" class=\"dataframe\">\n",
       "  <thead>\n",
       "    <tr style=\"text-align: right;\">\n",
       "      <th></th>\n",
       "      <th>Store</th>\n",
       "      <th>DayOfWeek</th>\n",
       "      <th>Date</th>\n",
       "      <th>Sales</th>\n",
       "      <th>Customers</th>\n",
       "      <th>Open</th>\n",
       "      <th>Promo</th>\n",
       "      <th>StateHoliday</th>\n",
       "      <th>SchoolHoliday</th>\n",
       "      <th>Id</th>\n",
       "    </tr>\n",
       "  </thead>\n",
       "  <tbody>\n",
       "    <tr>\n",
       "      <th>24160</th>\n",
       "      <td>746</td>\n",
       "      <td>5</td>\n",
       "      <td>2015-06-26</td>\n",
       "      <td>4973</td>\n",
       "      <td>491</td>\n",
       "      <td>1</td>\n",
       "      <td>0</td>\n",
       "      <td>0</td>\n",
       "      <td>0</td>\n",
       "      <td>302759</td>\n",
       "    </tr>\n",
       "  </tbody>\n",
       "</table>\n",
       "</div>"
      ],
      "text/plain": [
       "       Store  DayOfWeek        Date  Sales  Customers  Open  Promo StateHoliday  SchoolHoliday      Id\n",
       "24160    746          5  2015-06-26   4973        491     1      0            0              0  302759"
      ]
     },
     "execution_count": 14,
     "metadata": {},
     "output_type": "execute_result"
    }
   ],
   "source": [
    "df_train_raw.shape #(1001599, 10)\n",
    "df_train_raw.sample()"
   ]
  },
  {
   "cell_type": "code",
   "execution_count": 15,
   "metadata": {
    "colab": {
     "base_uri": "https://localhost:8080/",
     "height": 100
    },
    "id": "5YmolWt_diDY",
    "outputId": "e3bb4d68-b06d-45f7-f6c2-d39788252092"
   },
   "outputs": [
    {
     "data": {
      "text/html": [
       "<div>\n",
       "<style scoped>\n",
       "    .dataframe tbody tr th:only-of-type {\n",
       "        vertical-align: middle;\n",
       "    }\n",
       "\n",
       "    .dataframe tbody tr th {\n",
       "        vertical-align: top;\n",
       "    }\n",
       "\n",
       "    .dataframe thead th {\n",
       "        text-align: right;\n",
       "    }\n",
       "</style>\n",
       "<table border=\"1\" class=\"dataframe\">\n",
       "  <thead>\n",
       "    <tr style=\"text-align: right;\">\n",
       "      <th></th>\n",
       "      <th>Store</th>\n",
       "      <th>StoreType</th>\n",
       "      <th>Assortment</th>\n",
       "      <th>CompetitionDistance</th>\n",
       "      <th>CompetitionOpenSinceMonth</th>\n",
       "      <th>CompetitionOpenSinceYear</th>\n",
       "      <th>Promo2</th>\n",
       "      <th>Promo2SinceWeek</th>\n",
       "      <th>Promo2SinceYear</th>\n",
       "      <th>PromoInterval</th>\n",
       "    </tr>\n",
       "  </thead>\n",
       "  <tbody>\n",
       "    <tr>\n",
       "      <th>338</th>\n",
       "      <td>339</td>\n",
       "      <td>a</td>\n",
       "      <td>c</td>\n",
       "      <td>2280.0</td>\n",
       "      <td>NaN</td>\n",
       "      <td>NaN</td>\n",
       "      <td>1</td>\n",
       "      <td>10.0</td>\n",
       "      <td>2013.0</td>\n",
       "      <td>Mar,Jun,Sept,Dec</td>\n",
       "    </tr>\n",
       "  </tbody>\n",
       "</table>\n",
       "</div>"
      ],
      "text/plain": [
       "     Store StoreType Assortment  CompetitionDistance  CompetitionOpenSinceMonth  CompetitionOpenSinceYear  Promo2  Promo2SinceWeek  Promo2SinceYear     PromoInterval\n",
       "338    339         a          c               2280.0                        NaN                       NaN       1             10.0           2013.0  Mar,Jun,Sept,Dec"
      ]
     },
     "execution_count": 15,
     "metadata": {},
     "output_type": "execute_result"
    }
   ],
   "source": [
    "df_store_raw.shape #(1115, 10)\n",
    "df_store_raw.sample()"
   ]
  },
  {
   "cell_type": "code",
   "execution_count": 16,
   "metadata": {
    "colab": {
     "base_uri": "https://localhost:8080/"
    },
    "id": "r5PPWPc_diDZ",
    "outputId": "1c44b745-25b8-4124-ee60-6c835291dc9c"
   },
   "outputs": [
    {
     "data": {
      "text/plain": [
       "(1001599, 19)"
      ]
     },
     "execution_count": 16,
     "metadata": {},
     "output_type": "execute_result"
    }
   ],
   "source": [
    "#df_sales_raw # 1001599 rows × 10 columns\n",
    "df_store_raw # 1115 rows × 10 columns\n",
    "\n",
    "# arquivo_referencia, anexado a referencia, como faremos o merge, a coluna igual nos dois\n",
    "df_raw=pd.merge(df_train_raw, df_store_raw, how='left', on='Store') #1001599 rows × 19 columns\n",
    "\n",
    "# so alterou o numero de colunas\n",
    "df_raw.shape #(1001599, 19)"
   ]
  },
  {
   "cell_type": "code",
   "execution_count": 17,
   "metadata": {
    "colab": {
     "base_uri": "https://localhost:8080/",
     "height": 118
    },
    "id": "nU9ccxsudiDa",
    "outputId": "10969a16-3548-4a69-84ec-328d45fea8e6"
   },
   "outputs": [
    {
     "data": {
      "text/html": [
       "<div>\n",
       "<style scoped>\n",
       "    .dataframe tbody tr th:only-of-type {\n",
       "        vertical-align: middle;\n",
       "    }\n",
       "\n",
       "    .dataframe tbody tr th {\n",
       "        vertical-align: top;\n",
       "    }\n",
       "\n",
       "    .dataframe thead th {\n",
       "        text-align: right;\n",
       "    }\n",
       "</style>\n",
       "<table border=\"1\" class=\"dataframe\">\n",
       "  <thead>\n",
       "    <tr style=\"text-align: right;\">\n",
       "      <th></th>\n",
       "      <th>Store</th>\n",
       "      <th>DayOfWeek</th>\n",
       "      <th>Date</th>\n",
       "      <th>Sales</th>\n",
       "      <th>Customers</th>\n",
       "      <th>Open</th>\n",
       "      <th>Promo</th>\n",
       "      <th>StateHoliday</th>\n",
       "      <th>SchoolHoliday</th>\n",
       "      <th>Id</th>\n",
       "      <th>StoreType</th>\n",
       "      <th>Assortment</th>\n",
       "      <th>CompetitionDistance</th>\n",
       "      <th>CompetitionOpenSinceMonth</th>\n",
       "      <th>CompetitionOpenSinceYear</th>\n",
       "      <th>Promo2</th>\n",
       "      <th>Promo2SinceWeek</th>\n",
       "      <th>Promo2SinceYear</th>\n",
       "      <th>PromoInterval</th>\n",
       "    </tr>\n",
       "  </thead>\n",
       "  <tbody>\n",
       "    <tr>\n",
       "      <th>913226</th>\n",
       "      <td>827</td>\n",
       "      <td>4</td>\n",
       "      <td>2013-03-21</td>\n",
       "      <td>9004</td>\n",
       "      <td>1189</td>\n",
       "      <td>1</td>\n",
       "      <td>1</td>\n",
       "      <td>0</td>\n",
       "      <td>0</td>\n",
       "      <td>503505</td>\n",
       "      <td>a</td>\n",
       "      <td>c</td>\n",
       "      <td>250.0</td>\n",
       "      <td>1.0</td>\n",
       "      <td>2005.0</td>\n",
       "      <td>0</td>\n",
       "      <td>NaN</td>\n",
       "      <td>NaN</td>\n",
       "      <td>NaN</td>\n",
       "    </tr>\n",
       "  </tbody>\n",
       "</table>\n",
       "</div>"
      ],
      "text/plain": [
       "        Store  DayOfWeek        Date  Sales  Customers  Open  Promo StateHoliday  SchoolHoliday      Id StoreType Assortment  CompetitionDistance  CompetitionOpenSinceMonth  CompetitionOpenSinceYear  Promo2  Promo2SinceWeek  Promo2SinceYear PromoInterval\n",
       "913226    827          4  2013-03-21   9004       1189     1      1            0              0  503505         a          c                250.0                        1.0                    2005.0       0              NaN              NaN           NaN"
      ]
     },
     "execution_count": 17,
     "metadata": {},
     "output_type": "execute_result"
    }
   ],
   "source": [
    "df_raw.sample()"
   ]
  },
  {
   "cell_type": "markdown",
   "metadata": {
    "id": "HWnH2oL9diDa",
    "jp-MarkdownHeadingCollapsed": true
   },
   "source": [
    "# 1.0. PASSO 01 - DESCRIÇÃO DOS DADOS"
   ]
  },
  {
   "cell_type": "markdown",
   "metadata": {
    "id": "ZfOJhyWydiDb"
   },
   "source": [
    "## 1.1 Rename Columns"
   ]
  },
  {
   "cell_type": "code",
   "execution_count": 18,
   "metadata": {
    "id": "Q7mR63vediDb"
   },
   "outputs": [],
   "source": [
    "# fazendo uma copia da seccao anterior\n",
    "df1=df_raw.copy()\n",
    "#list(df1.columns)"
   ]
  },
  {
   "cell_type": "code",
   "execution_count": 19,
   "metadata": {
    "colab": {
     "base_uri": "https://localhost:8080/"
    },
    "id": "0ocF2oaUdiDb",
    "outputId": "9a857a32-9d05-449b-bed3-8e9fc2462e11"
   },
   "outputs": [
    {
     "data": {
      "text/plain": [
       "['Store',\n",
       " 'DayOfWeek',\n",
       " 'Date',\n",
       " 'Sales',\n",
       " 'Customers',\n",
       " 'Open',\n",
       " 'Promo',\n",
       " 'StateHoliday',\n",
       " 'SchoolHoliday',\n",
       " 'Id',\n",
       " 'StoreType',\n",
       " 'Assortment',\n",
       " 'CompetitionDistance',\n",
       " 'CompetitionOpenSinceMonth',\n",
       " 'CompetitionOpenSinceYear',\n",
       " 'Promo2',\n",
       " 'Promo2SinceWeek',\n",
       " 'Promo2SinceYear',\n",
       " 'PromoInterval']"
      ]
     },
     "execution_count": 19,
     "metadata": {},
     "output_type": "execute_result"
    }
   ],
   "source": [
    "cols_old=list(df1.columns)\n",
    "cols_old #.list()"
   ]
  },
  {
   "cell_type": "code",
   "execution_count": 20,
   "metadata": {
    "id": "sYo0xEsLdiDc"
   },
   "outputs": [],
   "source": [
    "snakecase = lambda x: inflection.underscore(x)\n",
    "#mapeando a função\n",
    "cols_new = list(map(snakecase, cols_old))\n",
    "#rename\n",
    "df1.columns=cols_new\n",
    "#cols_new"
   ]
  },
  {
   "cell_type": "markdown",
   "metadata": {
    "id": "R3ACdY9DdiDc"
   },
   "source": [
    "## 1.2 Data Dimensions"
   ]
  },
  {
   "cell_type": "code",
   "execution_count": 21,
   "metadata": {
    "colab": {
     "base_uri": "https://localhost:8080/"
    },
    "id": "4qB969lPdiDc",
    "outputId": "520fb176-1703-4638-c490-c6358ade5dcc"
   },
   "outputs": [
    {
     "name": "stdout",
     "output_type": "stream",
     "text": [
      "Number of Rows: 1001599\n",
      "Number of Cols: 19\n"
     ]
    }
   ],
   "source": [
    "print('Number of Rows: {}'.format(df1.shape[0]))\n",
    "print('Number of Cols: {}'.format(df1.shape[1]))"
   ]
  },
  {
   "cell_type": "markdown",
   "metadata": {
    "id": "IOPbAoAqdiDd"
   },
   "source": [
    "## 1.3 Data Types"
   ]
  },
  {
   "cell_type": "code",
   "execution_count": 22,
   "metadata": {
    "id": "2-FyMJvjdiDd"
   },
   "outputs": [],
   "source": [
    "df1.dtypes\n",
    "df1['date']=pd.to_datetime(df1['date'])\n",
    "#df1.dtypes"
   ]
  },
  {
   "cell_type": "markdown",
   "metadata": {
    "id": "wpNunG69diDe",
    "jp-MarkdownHeadingCollapsed": true
   },
   "source": [
    "## 1.4 Check NA"
   ]
  },
  {
   "cell_type": "code",
   "execution_count": 23,
   "metadata": {
    "colab": {
     "base_uri": "https://localhost:8080/"
    },
    "id": "nrRRZ-HzdiDe",
    "outputId": "c8623f5f-d733-4c6f-cdf7-41089a8964e8"
   },
   "outputs": [
    {
     "data": {
      "text/plain": [
       "store                                0\n",
       "day_of_week                          0\n",
       "date                                 0\n",
       "sales                                0\n",
       "customers                            0\n",
       "open                                 0\n",
       "promo                                0\n",
       "state_holiday                        0\n",
       "school_holiday                       0\n",
       "id                                   0\n",
       "store_type                           0\n",
       "assortment                           0\n",
       "competition_distance              2600\n",
       "competition_open_since_month    318392\n",
       "competition_open_since_year     318392\n",
       "promo2                               0\n",
       "promo2_since_week               500415\n",
       "promo2_since_year               500415\n",
       "promo_interval                  500415\n",
       "dtype: int64"
      ]
     },
     "execution_count": 23,
     "metadata": {},
     "output_type": "execute_result"
    }
   ],
   "source": [
    "df1.isna().sum()"
   ]
  },
  {
   "cell_type": "markdown",
   "metadata": {
    "id": "6zkQV-hOdiDe",
    "jp-MarkdownHeadingCollapsed": true
   },
   "source": [
    "## 1.5 Fillout NA"
   ]
  },
  {
   "cell_type": "code",
   "execution_count": 24,
   "metadata": {
    "colab": {
     "base_uri": "https://localhost:8080/",
     "height": 645
    },
    "id": "TagS2wYBdiDe",
    "outputId": "4509f183-431f-4688-c986-c02043521152"
   },
   "outputs": [
    {
     "data": {
      "text/html": [
       "<div>\n",
       "<style scoped>\n",
       "    .dataframe tbody tr th:only-of-type {\n",
       "        vertical-align: middle;\n",
       "    }\n",
       "\n",
       "    .dataframe tbody tr th {\n",
       "        vertical-align: top;\n",
       "    }\n",
       "\n",
       "    .dataframe thead th {\n",
       "        text-align: right;\n",
       "    }\n",
       "</style>\n",
       "<table border=\"1\" class=\"dataframe\">\n",
       "  <thead>\n",
       "    <tr style=\"text-align: right;\">\n",
       "      <th></th>\n",
       "      <th>845610</th>\n",
       "    </tr>\n",
       "  </thead>\n",
       "  <tbody>\n",
       "    <tr>\n",
       "      <th>store</th>\n",
       "      <td>111</td>\n",
       "    </tr>\n",
       "    <tr>\n",
       "      <th>day_of_week</th>\n",
       "      <td>1</td>\n",
       "    </tr>\n",
       "    <tr>\n",
       "      <th>date</th>\n",
       "      <td>2013-05-20 00:00:00</td>\n",
       "    </tr>\n",
       "    <tr>\n",
       "      <th>sales</th>\n",
       "      <td>0</td>\n",
       "    </tr>\n",
       "    <tr>\n",
       "      <th>customers</th>\n",
       "      <td>0</td>\n",
       "    </tr>\n",
       "    <tr>\n",
       "      <th>open</th>\n",
       "      <td>0</td>\n",
       "    </tr>\n",
       "    <tr>\n",
       "      <th>promo</th>\n",
       "      <td>0</td>\n",
       "    </tr>\n",
       "    <tr>\n",
       "      <th>state_holiday</th>\n",
       "      <td>a</td>\n",
       "    </tr>\n",
       "    <tr>\n",
       "      <th>school_holiday</th>\n",
       "      <td>0</td>\n",
       "    </tr>\n",
       "    <tr>\n",
       "      <th>id</th>\n",
       "      <td>466418</td>\n",
       "    </tr>\n",
       "    <tr>\n",
       "      <th>store_type</th>\n",
       "      <td>d</td>\n",
       "    </tr>\n",
       "    <tr>\n",
       "      <th>assortment</th>\n",
       "      <td>c</td>\n",
       "    </tr>\n",
       "    <tr>\n",
       "      <th>competition_distance</th>\n",
       "      <td>7890.0</td>\n",
       "    </tr>\n",
       "    <tr>\n",
       "      <th>competition_open_since_month</th>\n",
       "      <td>NaN</td>\n",
       "    </tr>\n",
       "    <tr>\n",
       "      <th>competition_open_since_year</th>\n",
       "      <td>NaN</td>\n",
       "    </tr>\n",
       "    <tr>\n",
       "      <th>promo2</th>\n",
       "      <td>1</td>\n",
       "    </tr>\n",
       "    <tr>\n",
       "      <th>promo2_since_week</th>\n",
       "      <td>37.0</td>\n",
       "    </tr>\n",
       "    <tr>\n",
       "      <th>promo2_since_year</th>\n",
       "      <td>2009.0</td>\n",
       "    </tr>\n",
       "    <tr>\n",
       "      <th>promo_interval</th>\n",
       "      <td>Jan,Apr,Jul,Oct</td>\n",
       "    </tr>\n",
       "  </tbody>\n",
       "</table>\n",
       "</div>"
      ],
      "text/plain": [
       "                                           845610\n",
       "store                                         111\n",
       "day_of_week                                     1\n",
       "date                          2013-05-20 00:00:00\n",
       "sales                                           0\n",
       "customers                                       0\n",
       "open                                            0\n",
       "promo                                           0\n",
       "state_holiday                                   a\n",
       "school_holiday                                  0\n",
       "id                                         466418\n",
       "store_type                                      d\n",
       "assortment                                      c\n",
       "competition_distance                       7890.0\n",
       "competition_open_since_month                  NaN\n",
       "competition_open_since_year                   NaN\n",
       "promo2                                          1\n",
       "promo2_since_week                            37.0\n",
       "promo2_since_year                          2009.0\n",
       "promo_interval                    Jan,Apr,Jul,Oct"
      ]
     },
     "execution_count": 24,
     "metadata": {},
     "output_type": "execute_result"
    }
   ],
   "source": [
    "df1.sample().T"
   ]
  },
  {
   "cell_type": "code",
   "execution_count": 25,
   "metadata": {
    "id": "8r0VfMPkdiDf"
   },
   "outputs": [],
   "source": [
    "atributo='competition_open_since_month'\n",
    "df1[atributo]= df1.apply(lambda x: x['date'].month if math.isnan(x[atributo]) else x[atributo], axis=1) #axis=1 aplicando ao longo das colunas"
   ]
  },
  {
   "cell_type": "code",
   "execution_count": 26,
   "metadata": {
    "id": "8RX63bEgdiDf"
   },
   "outputs": [],
   "source": [
    "atributo='competition_open_since_year'\n",
    "df1[atributo]= df1.apply(lambda x: x['date'].year if math.isnan(x[atributo]) else x[atributo], axis=1) #axis=1 aplicando ao longo das colunas"
   ]
  },
  {
   "cell_type": "code",
   "execution_count": 27,
   "metadata": {
    "id": "2V12LobUdiDf"
   },
   "outputs": [],
   "source": [
    "atributo='promo2_since_week'\n",
    "df1[atributo]= df1.apply(lambda x: x['date'].week if math.isnan(x[atributo]) else x[atributo], axis=1) #axis=1 aplicando ao longo das colunas"
   ]
  },
  {
   "cell_type": "code",
   "execution_count": 28,
   "metadata": {
    "id": "G8c1VbiqdiDg"
   },
   "outputs": [],
   "source": [
    "atributo='promo2_since_year'\n",
    "df1[atributo]= df1.apply(lambda x: x['date'].year if math.isnan(x[atributo]) else x[atributo], axis=1) #axis=1 aplicando ao longo das colunas"
   ]
  },
  {
   "cell_type": "code",
   "execution_count": 29,
   "metadata": {
    "colab": {
     "background_save": true
    },
    "id": "al1w5C-ddiDg",
    "outputId": "52be1f9a-42f6-4951-ae94-3187f55fee41"
   },
   "outputs": [
    {
     "name": "stdout",
     "output_type": "stream",
     "text": [
      "done\n"
     ]
    },
    {
     "data": {
      "text/html": [
       "<div>\n",
       "<style scoped>\n",
       "    .dataframe tbody tr th:only-of-type {\n",
       "        vertical-align: middle;\n",
       "    }\n",
       "\n",
       "    .dataframe tbody tr th {\n",
       "        vertical-align: top;\n",
       "    }\n",
       "\n",
       "    .dataframe thead th {\n",
       "        text-align: right;\n",
       "    }\n",
       "</style>\n",
       "<table border=\"1\" class=\"dataframe\">\n",
       "  <thead>\n",
       "    <tr style=\"text-align: right;\">\n",
       "      <th></th>\n",
       "      <th>store</th>\n",
       "      <th>day_of_week</th>\n",
       "      <th>date</th>\n",
       "      <th>sales</th>\n",
       "      <th>customers</th>\n",
       "      <th>open</th>\n",
       "      <th>promo</th>\n",
       "      <th>state_holiday</th>\n",
       "      <th>school_holiday</th>\n",
       "      <th>id</th>\n",
       "      <th>store_type</th>\n",
       "      <th>assortment</th>\n",
       "      <th>competition_distance</th>\n",
       "      <th>competition_open_since_month</th>\n",
       "      <th>competition_open_since_year</th>\n",
       "      <th>promo2</th>\n",
       "      <th>promo2_since_week</th>\n",
       "      <th>promo2_since_year</th>\n",
       "      <th>promo_interval</th>\n",
       "    </tr>\n",
       "  </thead>\n",
       "  <tbody>\n",
       "    <tr>\n",
       "      <th>606502</th>\n",
       "      <td>728</td>\n",
       "      <td>6</td>\n",
       "      <td>2013-12-21</td>\n",
       "      <td>7421</td>\n",
       "      <td>606</td>\n",
       "      <td>1</td>\n",
       "      <td>0</td>\n",
       "      <td>0</td>\n",
       "      <td>0</td>\n",
       "      <td>88191</td>\n",
       "      <td>d</td>\n",
       "      <td>a</td>\n",
       "      <td>13990.0</td>\n",
       "      <td>12.0</td>\n",
       "      <td>2013.0</td>\n",
       "      <td>1</td>\n",
       "      <td>14.0</td>\n",
       "      <td>2011.0</td>\n",
       "      <td>Jan,Apr,Jul,Oct</td>\n",
       "    </tr>\n",
       "    <tr>\n",
       "      <th>392049</th>\n",
       "      <td>217</td>\n",
       "      <td>2</td>\n",
       "      <td>2014-07-01</td>\n",
       "      <td>6425</td>\n",
       "      <td>759</td>\n",
       "      <td>1</td>\n",
       "      <td>1</td>\n",
       "      <td>0</td>\n",
       "      <td>0</td>\n",
       "      <td>497929</td>\n",
       "      <td>c</td>\n",
       "      <td>a</td>\n",
       "      <td>3150.0</td>\n",
       "      <td>7.0</td>\n",
       "      <td>2014.0</td>\n",
       "      <td>0</td>\n",
       "      <td>27.0</td>\n",
       "      <td>2014.0</td>\n",
       "      <td>NaN</td>\n",
       "    </tr>\n",
       "    <tr>\n",
       "      <th>497410</th>\n",
       "      <td>906</td>\n",
       "      <td>6</td>\n",
       "      <td>2014-03-29</td>\n",
       "      <td>8200</td>\n",
       "      <td>1093</td>\n",
       "      <td>1</td>\n",
       "      <td>0</td>\n",
       "      <td>0</td>\n",
       "      <td>0</td>\n",
       "      <td>447092</td>\n",
       "      <td>a</td>\n",
       "      <td>a</td>\n",
       "      <td>90.0</td>\n",
       "      <td>7.0</td>\n",
       "      <td>2010.0</td>\n",
       "      <td>0</td>\n",
       "      <td>13.0</td>\n",
       "      <td>2014.0</td>\n",
       "      <td>NaN</td>\n",
       "    </tr>\n",
       "    <tr>\n",
       "      <th>413097</th>\n",
       "      <td>218</td>\n",
       "      <td>4</td>\n",
       "      <td>2014-06-12</td>\n",
       "      <td>4846</td>\n",
       "      <td>731</td>\n",
       "      <td>1</td>\n",
       "      <td>0</td>\n",
       "      <td>0</td>\n",
       "      <td>1</td>\n",
       "      <td>806795</td>\n",
       "      <td>a</td>\n",
       "      <td>c</td>\n",
       "      <td>640.0</td>\n",
       "      <td>6.0</td>\n",
       "      <td>2014.0</td>\n",
       "      <td>1</td>\n",
       "      <td>9.0</td>\n",
       "      <td>2011.0</td>\n",
       "      <td>Mar,Jun,Sept,Dec</td>\n",
       "    </tr>\n",
       "    <tr>\n",
       "      <th>502457</th>\n",
       "      <td>378</td>\n",
       "      <td>1</td>\n",
       "      <td>2014-03-24</td>\n",
       "      <td>5164</td>\n",
       "      <td>877</td>\n",
       "      <td>1</td>\n",
       "      <td>0</td>\n",
       "      <td>0</td>\n",
       "      <td>0</td>\n",
       "      <td>809531</td>\n",
       "      <td>a</td>\n",
       "      <td>c</td>\n",
       "      <td>2140.0</td>\n",
       "      <td>8.0</td>\n",
       "      <td>2012.0</td>\n",
       "      <td>0</td>\n",
       "      <td>13.0</td>\n",
       "      <td>2014.0</td>\n",
       "      <td>NaN</td>\n",
       "    </tr>\n",
       "    <tr>\n",
       "      <th>801750</th>\n",
       "      <td>851</td>\n",
       "      <td>6</td>\n",
       "      <td>2013-06-29</td>\n",
       "      <td>6507</td>\n",
       "      <td>517</td>\n",
       "      <td>1</td>\n",
       "      <td>0</td>\n",
       "      <td>0</td>\n",
       "      <td>0</td>\n",
       "      <td>138707</td>\n",
       "      <td>d</td>\n",
       "      <td>c</td>\n",
       "      <td>2330.0</td>\n",
       "      <td>6.0</td>\n",
       "      <td>2013.0</td>\n",
       "      <td>1</td>\n",
       "      <td>49.0</td>\n",
       "      <td>2014.0</td>\n",
       "      <td>Mar,Jun,Sept,Dec</td>\n",
       "    </tr>\n",
       "    <tr>\n",
       "      <th>8884</th>\n",
       "      <td>1080</td>\n",
       "      <td>5</td>\n",
       "      <td>2015-07-10</td>\n",
       "      <td>9938</td>\n",
       "      <td>871</td>\n",
       "      <td>1</td>\n",
       "      <td>0</td>\n",
       "      <td>0</td>\n",
       "      <td>0</td>\n",
       "      <td>352950</td>\n",
       "      <td>a</td>\n",
       "      <td>a</td>\n",
       "      <td>2410.0</td>\n",
       "      <td>7.0</td>\n",
       "      <td>2015.0</td>\n",
       "      <td>1</td>\n",
       "      <td>40.0</td>\n",
       "      <td>2014.0</td>\n",
       "      <td>Jan,Apr,Jul,Oct</td>\n",
       "    </tr>\n",
       "    <tr>\n",
       "      <th>451526</th>\n",
       "      <td>737</td>\n",
       "      <td>5</td>\n",
       "      <td>2014-05-09</td>\n",
       "      <td>6239</td>\n",
       "      <td>939</td>\n",
       "      <td>1</td>\n",
       "      <td>1</td>\n",
       "      <td>0</td>\n",
       "      <td>0</td>\n",
       "      <td>104549</td>\n",
       "      <td>a</td>\n",
       "      <td>a</td>\n",
       "      <td>100.0</td>\n",
       "      <td>5.0</td>\n",
       "      <td>2007.0</td>\n",
       "      <td>1</td>\n",
       "      <td>31.0</td>\n",
       "      <td>2013.0</td>\n",
       "      <td>Jan,Apr,Jul,Oct</td>\n",
       "    </tr>\n",
       "    <tr>\n",
       "      <th>268925</th>\n",
       "      <td>562</td>\n",
       "      <td>1</td>\n",
       "      <td>2014-11-10</td>\n",
       "      <td>21477</td>\n",
       "      <td>3401</td>\n",
       "      <td>1</td>\n",
       "      <td>1</td>\n",
       "      <td>0</td>\n",
       "      <td>0</td>\n",
       "      <td>356144</td>\n",
       "      <td>b</td>\n",
       "      <td>c</td>\n",
       "      <td>1210.0</td>\n",
       "      <td>11.0</td>\n",
       "      <td>2014.0</td>\n",
       "      <td>0</td>\n",
       "      <td>46.0</td>\n",
       "      <td>2014.0</td>\n",
       "      <td>NaN</td>\n",
       "    </tr>\n",
       "    <tr>\n",
       "      <th>504945</th>\n",
       "      <td>636</td>\n",
       "      <td>6</td>\n",
       "      <td>2014-03-22</td>\n",
       "      <td>5036</td>\n",
       "      <td>646</td>\n",
       "      <td>1</td>\n",
       "      <td>0</td>\n",
       "      <td>0</td>\n",
       "      <td>0</td>\n",
       "      <td>1010309</td>\n",
       "      <td>c</td>\n",
       "      <td>a</td>\n",
       "      <td>720.0</td>\n",
       "      <td>10.0</td>\n",
       "      <td>2004.0</td>\n",
       "      <td>1</td>\n",
       "      <td>13.0</td>\n",
       "      <td>2010.0</td>\n",
       "      <td>Jan,Apr,Jul,Oct</td>\n",
       "    </tr>\n",
       "  </tbody>\n",
       "</table>\n",
       "</div>"
      ],
      "text/plain": [
       "        store  day_of_week       date  sales  customers  open  promo state_holiday  school_holiday       id store_type assortment  competition_distance  competition_open_since_month  competition_open_since_year  promo2  promo2_since_week  promo2_since_year    promo_interval\n",
       "606502    728            6 2013-12-21   7421        606     1      0             0               0    88191          d          a               13990.0                          12.0                       2013.0       1               14.0             2011.0   Jan,Apr,Jul,Oct\n",
       "392049    217            2 2014-07-01   6425        759     1      1             0               0   497929          c          a                3150.0                           7.0                       2014.0       0               27.0             2014.0               NaN\n",
       "497410    906            6 2014-03-29   8200       1093     1      0             0               0   447092          a          a                  90.0                           7.0                       2010.0       0               13.0             2014.0               NaN\n",
       "413097    218            4 2014-06-12   4846        731     1      0             0               1   806795          a          c                 640.0                           6.0                       2014.0       1                9.0             2011.0  Mar,Jun,Sept,Dec\n",
       "502457    378            1 2014-03-24   5164        877     1      0             0               0   809531          a          c                2140.0                           8.0                       2012.0       0               13.0             2014.0               NaN\n",
       "801750    851            6 2013-06-29   6507        517     1      0             0               0   138707          d          c                2330.0                           6.0                       2013.0       1               49.0             2014.0  Mar,Jun,Sept,Dec\n",
       "8884     1080            5 2015-07-10   9938        871     1      0             0               0   352950          a          a                2410.0                           7.0                       2015.0       1               40.0             2014.0   Jan,Apr,Jul,Oct\n",
       "451526    737            5 2014-05-09   6239        939     1      1             0               0   104549          a          a                 100.0                           5.0                       2007.0       1               31.0             2013.0   Jan,Apr,Jul,Oct\n",
       "268925    562            1 2014-11-10  21477       3401     1      1             0               0   356144          b          c                1210.0                          11.0                       2014.0       0               46.0             2014.0               NaN\n",
       "504945    636            6 2014-03-22   5036        646     1      0             0               0  1010309          c          a                 720.0                          10.0                       2004.0       1               13.0             2010.0   Jan,Apr,Jul,Oct"
      ]
     },
     "execution_count": 29,
     "metadata": {},
     "output_type": "execute_result"
    }
   ],
   "source": [
    "#competition_distance              2600\n",
    "#print(df1[1])\n",
    "#df1['competition_distance'] =df1['competition_distance'].apply(lambda x: 200000.0 if math.isnan(x) else x)\n",
    "\n",
    "#competition_open_since_month    318392\n",
    "# se for verdade extraimos o mes\n",
    "df1['competition_open_since_month'] = df1.apply(lambda x: x['date'].moth if math.isnan( x['competition_open_since_month']) else x['competition_open_since_month'], axis=1)\n",
    "print('done')\n",
    "df1.sample(10)\n",
    "#competition_open_since_year     318392\n",
    "#atributo='competition_open_since_year'\n",
    "#df1[atributo] = df1.apply(lambda x: x['date'].year if math.isnan( x['competition_open_since_year']) else x['competition_open_since_year'], axis=1)\n",
    "\n",
    "#promo2_since_week               500415\n",
    "#promo2_since_year               500415\n",
    "#promo_interval                  500415"
   ]
  },
  {
   "cell_type": "code",
   "execution_count": 30,
   "metadata": {
    "id": "Sqf2ms5RdiDg"
   },
   "outputs": [],
   "source": [
    "#promo_interval                  500415\n",
    "month_map = {1:'Jan', 2:'Fev', 3:'Mar', 4:'Apr', 5:'May', 6:'Jun', 7:'Jul', 8:'Aug', 9:'Sep', 10:'Oct', 11:'Nov', 12:'Dec'}\n",
    "df1['promo_interval'].fillna(0, inplace=True) # fazendo modificação directa na coluna\n",
    "#criando a coluna month_map, que indica o mês que ocorreu a venda\n",
    "df1['month_map'] = df1['date'].dt.month.map(month_map) # os numeros serão trocados pelas letras\n",
    "# A venda foi realizada num mês promocional\n",
    "df1['is_promo'] = df1[['promo_interval', 'month_map']].apply(lambda x: 0 if x['promo_interval'] == 0 else 1 if x['month_map'] in x['promo_interval'].split(',') else 0, axis=1)\n",
    "# criando lista dos elementos da coluna promo_interval e verificar se month_map está dentro da lista do intervalo"
   ]
  },
  {
   "cell_type": "code",
   "execution_count": 31,
   "metadata": {
    "id": "N4ghfnRJdiDo"
   },
   "outputs": [
    {
     "data": {
      "text/html": [
       "<div>\n",
       "<style scoped>\n",
       "    .dataframe tbody tr th:only-of-type {\n",
       "        vertical-align: middle;\n",
       "    }\n",
       "\n",
       "    .dataframe tbody tr th {\n",
       "        vertical-align: top;\n",
       "    }\n",
       "\n",
       "    .dataframe thead th {\n",
       "        text-align: right;\n",
       "    }\n",
       "</style>\n",
       "<table border=\"1\" class=\"dataframe\">\n",
       "  <thead>\n",
       "    <tr style=\"text-align: right;\">\n",
       "      <th></th>\n",
       "      <th>date</th>\n",
       "      <th>month_map</th>\n",
       "    </tr>\n",
       "  </thead>\n",
       "  <tbody>\n",
       "    <tr>\n",
       "      <th>378338</th>\n",
       "      <td>2014-07-16</td>\n",
       "      <td>Jul</td>\n",
       "    </tr>\n",
       "    <tr>\n",
       "      <th>495932</th>\n",
       "      <td>2014-03-30</td>\n",
       "      <td>Mar</td>\n",
       "    </tr>\n",
       "    <tr>\n",
       "      <th>220284</th>\n",
       "      <td>2015-01-01</td>\n",
       "      <td>Jan</td>\n",
       "    </tr>\n",
       "    <tr>\n",
       "      <th>256391</th>\n",
       "      <td>2014-11-23</td>\n",
       "      <td>Nov</td>\n",
       "    </tr>\n",
       "    <tr>\n",
       "      <th>651924</th>\n",
       "      <td>2013-11-10</td>\n",
       "      <td>Nov</td>\n",
       "    </tr>\n",
       "    <tr>\n",
       "      <th>259204</th>\n",
       "      <td>2014-11-20</td>\n",
       "      <td>Nov</td>\n",
       "    </tr>\n",
       "    <tr>\n",
       "      <th>69382</th>\n",
       "      <td>2015-05-16</td>\n",
       "      <td>May</td>\n",
       "    </tr>\n",
       "    <tr>\n",
       "      <th>664373</th>\n",
       "      <td>2013-10-30</td>\n",
       "      <td>Oct</td>\n",
       "    </tr>\n",
       "    <tr>\n",
       "      <th>688374</th>\n",
       "      <td>2013-10-08</td>\n",
       "      <td>Oct</td>\n",
       "    </tr>\n",
       "    <tr>\n",
       "      <th>420435</th>\n",
       "      <td>2014-06-06</td>\n",
       "      <td>Jun</td>\n",
       "    </tr>\n",
       "    <tr>\n",
       "      <th>94494</th>\n",
       "      <td>2015-04-24</td>\n",
       "      <td>Apr</td>\n",
       "    </tr>\n",
       "    <tr>\n",
       "      <th>894241</th>\n",
       "      <td>2013-04-07</td>\n",
       "      <td>Apr</td>\n",
       "    </tr>\n",
       "  </tbody>\n",
       "</table>\n",
       "</div>"
      ],
      "text/plain": [
       "             date month_map\n",
       "378338 2014-07-16       Jul\n",
       "495932 2014-03-30       Mar\n",
       "220284 2015-01-01       Jan\n",
       "256391 2014-11-23       Nov\n",
       "651924 2013-11-10       Nov\n",
       "259204 2014-11-20       Nov\n",
       "69382  2015-05-16       May\n",
       "664373 2013-10-30       Oct\n",
       "688374 2013-10-08       Oct\n",
       "420435 2014-06-06       Jun\n",
       "94494  2015-04-24       Apr\n",
       "894241 2013-04-07       Apr"
      ]
     },
     "execution_count": 31,
     "metadata": {},
     "output_type": "execute_result"
    }
   ],
   "source": [
    "df1[['date', 'month_map']].sample(12)"
   ]
  },
  {
   "cell_type": "markdown",
   "metadata": {
    "id": "k8TEf5YidiDo"
   },
   "source": [
    "## 1.6 Check Type"
   ]
  },
  {
   "cell_type": "code",
   "execution_count": 32,
   "metadata": {
    "id": "XvHzF1EIdiDo"
   },
   "outputs": [
    {
     "data": {
      "text/plain": [
       "store                                    int64\n",
       "day_of_week                              int64\n",
       "date                            datetime64[ns]\n",
       "sales                                    int64\n",
       "customers                                int64\n",
       "open                                     int64\n",
       "promo                                    int64\n",
       "state_holiday                           object\n",
       "school_holiday                           int64\n",
       "id                                       int64\n",
       "store_type                              object\n",
       "assortment                              object\n",
       "competition_distance                   float64\n",
       "competition_open_since_month           float64\n",
       "competition_open_since_year            float64\n",
       "promo2                                   int64\n",
       "promo2_since_week                      float64\n",
       "promo2_since_year                      float64\n",
       "promo_interval                          object\n",
       "month_map                               object\n",
       "is_promo                                 int64\n",
       "dtype: object"
      ]
     },
     "execution_count": 32,
     "metadata": {},
     "output_type": "execute_result"
    }
   ],
   "source": [
    "df1.dtypes"
   ]
  },
  {
   "cell_type": "code",
   "execution_count": 33,
   "metadata": {
    "id": "5dZKYmYediDp"
   },
   "outputs": [],
   "source": [
    "\n",
    "#competition_open_since_month           float64\n",
    "atributo='competition_open_since_month'\n",
    "df1[atributo]=df1[atributo].astype(int)\n",
    "#competition_open_since_year            float64\n",
    "atributo='competition_open_since_year'\n",
    "df1[atributo]=df1[atributo].astype(int)\n",
    "#promo2_since_week                      float64\n",
    "atributo='promo2_since_week'\n",
    "df1[atributo]=df1[atributo].astype(int)\n",
    "#promo2_since_year                      float64\n",
    "atributo='promo2_since_year'\n",
    "df1[atributo]=df1[atributo].astype(int)"
   ]
  },
  {
   "cell_type": "markdown",
   "metadata": {
    "id": "UGuRD-fvdiDp"
   },
   "source": [
    "## 1.7 Descriptive Statistical, ganhando conhecimento do negocio e detectar alguns erros"
   ]
  },
  {
   "cell_type": "code",
   "execution_count": 34,
   "metadata": {
    "id": "xPMCLq5GdiDp"
   },
   "outputs": [],
   "source": [
    "num_attributes = df1.select_dtypes(include=['int64', 'float64']) # todos os atributos sao de variavel numerica\n",
    "cat_attributes = df1.select_dtypes(exclude=['int64', 'float64', 'datetime64[ns]']) #include=['object']\n",
    "obj_attributes = df1.select_dtypes(include=['object']) #include=['object']"
   ]
  },
  {
   "cell_type": "code",
   "execution_count": 35,
   "metadata": {
    "id": "S_KSVogLdiDq"
   },
   "outputs": [
    {
     "data": {
      "text/html": [
       "<div>\n",
       "<style scoped>\n",
       "    .dataframe tbody tr th:only-of-type {\n",
       "        vertical-align: middle;\n",
       "    }\n",
       "\n",
       "    .dataframe tbody tr th {\n",
       "        vertical-align: top;\n",
       "    }\n",
       "\n",
       "    .dataframe thead th {\n",
       "        text-align: right;\n",
       "    }\n",
       "</style>\n",
       "<table border=\"1\" class=\"dataframe\">\n",
       "  <thead>\n",
       "    <tr style=\"text-align: right;\">\n",
       "      <th></th>\n",
       "      <th>state_holiday</th>\n",
       "      <th>store_type</th>\n",
       "      <th>assortment</th>\n",
       "      <th>promo_interval</th>\n",
       "      <th>month_map</th>\n",
       "    </tr>\n",
       "  </thead>\n",
       "  <tbody>\n",
       "    <tr>\n",
       "      <th>52533</th>\n",
       "      <td>0</td>\n",
       "      <td>a</td>\n",
       "      <td>a</td>\n",
       "      <td>Jan,Apr,Jul,Oct</td>\n",
       "      <td>May</td>\n",
       "    </tr>\n",
       "    <tr>\n",
       "      <th>231647</th>\n",
       "      <td>0</td>\n",
       "      <td>a</td>\n",
       "      <td>a</td>\n",
       "      <td>0</td>\n",
       "      <td>Dec</td>\n",
       "    </tr>\n",
       "  </tbody>\n",
       "</table>\n",
       "</div>"
      ],
      "text/plain": [
       "       state_holiday store_type assortment   promo_interval month_map\n",
       "52533              0          a          a  Jan,Apr,Jul,Oct       May\n",
       "231647             0          a          a                0       Dec"
      ]
     },
     "execution_count": 35,
     "metadata": {},
     "output_type": "execute_result"
    }
   ],
   "source": [
    "cat_attributes.sample(2)"
   ]
  },
  {
   "cell_type": "code",
   "execution_count": 36,
   "metadata": {
    "id": "LJXQAGGidiDu"
   },
   "outputs": [
    {
     "data": {
      "text/html": [
       "<div>\n",
       "<style scoped>\n",
       "    .dataframe tbody tr th:only-of-type {\n",
       "        vertical-align: middle;\n",
       "    }\n",
       "\n",
       "    .dataframe tbody tr th {\n",
       "        vertical-align: top;\n",
       "    }\n",
       "\n",
       "    .dataframe thead th {\n",
       "        text-align: right;\n",
       "    }\n",
       "</style>\n",
       "<table border=\"1\" class=\"dataframe\">\n",
       "  <thead>\n",
       "    <tr style=\"text-align: right;\">\n",
       "      <th></th>\n",
       "      <th>state_holiday</th>\n",
       "      <th>store_type</th>\n",
       "      <th>assortment</th>\n",
       "      <th>promo_interval</th>\n",
       "      <th>month_map</th>\n",
       "    </tr>\n",
       "  </thead>\n",
       "  <tbody>\n",
       "    <tr>\n",
       "      <th>482066</th>\n",
       "      <td>0</td>\n",
       "      <td>d</td>\n",
       "      <td>c</td>\n",
       "      <td>0</td>\n",
       "      <td>Apr</td>\n",
       "    </tr>\n",
       "    <tr>\n",
       "      <th>669262</th>\n",
       "      <td>0</td>\n",
       "      <td>d</td>\n",
       "      <td>c</td>\n",
       "      <td>Jan,Apr,Jul,Oct</td>\n",
       "      <td>Oct</td>\n",
       "    </tr>\n",
       "  </tbody>\n",
       "</table>\n",
       "</div>"
      ],
      "text/plain": [
       "       state_holiday store_type assortment   promo_interval month_map\n",
       "482066             0          d          c                0       Apr\n",
       "669262             0          d          c  Jan,Apr,Jul,Oct       Oct"
      ]
     },
     "execution_count": 36,
     "metadata": {},
     "output_type": "execute_result"
    }
   ],
   "source": [
    "obj_attributes.sample(2)"
   ]
  },
  {
   "cell_type": "code",
   "execution_count": 37,
   "metadata": {
    "id": "s784zpsZdiDv"
   },
   "outputs": [
    {
     "data": {
      "text/html": [
       "<div>\n",
       "<style scoped>\n",
       "    .dataframe tbody tr th:only-of-type {\n",
       "        vertical-align: middle;\n",
       "    }\n",
       "\n",
       "    .dataframe tbody tr th {\n",
       "        vertical-align: top;\n",
       "    }\n",
       "\n",
       "    .dataframe thead th {\n",
       "        text-align: right;\n",
       "    }\n",
       "</style>\n",
       "<table border=\"1\" class=\"dataframe\">\n",
       "  <thead>\n",
       "    <tr style=\"text-align: right;\">\n",
       "      <th></th>\n",
       "      <th>store</th>\n",
       "      <th>day_of_week</th>\n",
       "      <th>sales</th>\n",
       "      <th>customers</th>\n",
       "      <th>open</th>\n",
       "      <th>promo</th>\n",
       "      <th>school_holiday</th>\n",
       "      <th>id</th>\n",
       "      <th>competition_distance</th>\n",
       "      <th>competition_open_since_month</th>\n",
       "      <th>competition_open_since_year</th>\n",
       "      <th>promo2</th>\n",
       "      <th>promo2_since_week</th>\n",
       "      <th>promo2_since_year</th>\n",
       "      <th>is_promo</th>\n",
       "    </tr>\n",
       "  </thead>\n",
       "  <tbody>\n",
       "    <tr>\n",
       "      <th>9420</th>\n",
       "      <td>501</td>\n",
       "      <td>4</td>\n",
       "      <td>4510</td>\n",
       "      <td>508</td>\n",
       "      <td>1</td>\n",
       "      <td>0</td>\n",
       "      <td>0</td>\n",
       "      <td>863304</td>\n",
       "      <td>1620.0</td>\n",
       "      <td>9</td>\n",
       "      <td>2006</td>\n",
       "      <td>0</td>\n",
       "      <td>28</td>\n",
       "      <td>2015</td>\n",
       "      <td>0</td>\n",
       "    </tr>\n",
       "  </tbody>\n",
       "</table>\n",
       "</div>"
      ],
      "text/plain": [
       "      store  day_of_week  sales  customers  open  promo  school_holiday      id  competition_distance  competition_open_since_month  competition_open_since_year  promo2  promo2_since_week  promo2_since_year  is_promo\n",
       "9420    501            4   4510        508     1      0               0  863304                1620.0                             9                         2006       0                 28               2015         0"
      ]
     },
     "execution_count": 37,
     "metadata": {},
     "output_type": "execute_result"
    }
   ],
   "source": [
    "num_attributes.sample() #"
   ]
  },
  {
   "cell_type": "code",
   "execution_count": 38,
   "metadata": {
    "id": "ED55KdHCdiDw"
   },
   "outputs": [],
   "source": [
    "# Central tendency - mean, median\n",
    "# Dispersion - std, min, max, range, skew, kurtosis"
   ]
  },
  {
   "cell_type": "markdown",
   "metadata": {
    "id": "Ymo6Uu_SdiDw"
   },
   "source": [
    "### 1.7.1 Numerical Attributes"
   ]
  },
  {
   "cell_type": "code",
   "execution_count": 39,
   "metadata": {
    "id": "DnnH0T28diDw"
   },
   "outputs": [
    {
     "data": {
      "text/html": [
       "<div>\n",
       "<style scoped>\n",
       "    .dataframe tbody tr th:only-of-type {\n",
       "        vertical-align: middle;\n",
       "    }\n",
       "\n",
       "    .dataframe tbody tr th {\n",
       "        vertical-align: top;\n",
       "    }\n",
       "\n",
       "    .dataframe thead th {\n",
       "        text-align: right;\n",
       "    }\n",
       "</style>\n",
       "<table border=\"1\" class=\"dataframe\">\n",
       "  <thead>\n",
       "    <tr style=\"text-align: right;\">\n",
       "      <th></th>\n",
       "      <th>attributes</th>\n",
       "      <th>min</th>\n",
       "      <th>max</th>\n",
       "      <th>range</th>\n",
       "      <th>mean</th>\n",
       "      <th>median</th>\n",
       "      <th>std</th>\n",
       "      <th>skew</th>\n",
       "      <th>kurtosis</th>\n",
       "    </tr>\n",
       "  </thead>\n",
       "  <tbody>\n",
       "    <tr>\n",
       "      <th>0</th>\n",
       "      <td>store</td>\n",
       "      <td>1.0</td>\n",
       "      <td>1115.0</td>\n",
       "      <td>1114.0</td>\n",
       "      <td>558.436424</td>\n",
       "      <td>558.0</td>\n",
       "      <td>321.909047</td>\n",
       "      <td>-0.000970</td>\n",
       "      <td>-1.200532</td>\n",
       "    </tr>\n",
       "    <tr>\n",
       "      <th>1</th>\n",
       "      <td>day_of_week</td>\n",
       "      <td>1.0</td>\n",
       "      <td>7.0</td>\n",
       "      <td>6.0</td>\n",
       "      <td>3.998315</td>\n",
       "      <td>4.0</td>\n",
       "      <td>1.997349</td>\n",
       "      <td>0.001618</td>\n",
       "      <td>-1.246824</td>\n",
       "    </tr>\n",
       "    <tr>\n",
       "      <th>2</th>\n",
       "      <td>sales</td>\n",
       "      <td>0.0</td>\n",
       "      <td>41551.0</td>\n",
       "      <td>41551.0</td>\n",
       "      <td>5770.573039</td>\n",
       "      <td>5741.0</td>\n",
       "      <td>3852.565888</td>\n",
       "      <td>0.643199</td>\n",
       "      <td>1.780100</td>\n",
       "    </tr>\n",
       "    <tr>\n",
       "      <th>3</th>\n",
       "      <td>customers</td>\n",
       "      <td>0.0</td>\n",
       "      <td>7388.0</td>\n",
       "      <td>7388.0</td>\n",
       "      <td>633.302988</td>\n",
       "      <td>610.0</td>\n",
       "      <td>464.942753</td>\n",
       "      <td>1.596438</td>\n",
       "      <td>7.073761</td>\n",
       "    </tr>\n",
       "    <tr>\n",
       "      <th>4</th>\n",
       "      <td>open</td>\n",
       "      <td>0.0</td>\n",
       "      <td>1.0</td>\n",
       "      <td>1.0</td>\n",
       "      <td>0.829645</td>\n",
       "      <td>1.0</td>\n",
       "      <td>0.375944</td>\n",
       "      <td>-1.753697</td>\n",
       "      <td>1.075454</td>\n",
       "    </tr>\n",
       "    <tr>\n",
       "      <th>5</th>\n",
       "      <td>promo</td>\n",
       "      <td>0.0</td>\n",
       "      <td>1.0</td>\n",
       "      <td>1.0</td>\n",
       "      <td>0.381894</td>\n",
       "      <td>0.0</td>\n",
       "      <td>0.485851</td>\n",
       "      <td>0.486181</td>\n",
       "      <td>-1.763631</td>\n",
       "    </tr>\n",
       "    <tr>\n",
       "      <th>6</th>\n",
       "      <td>school_holiday</td>\n",
       "      <td>0.0</td>\n",
       "      <td>1.0</td>\n",
       "      <td>1.0</td>\n",
       "      <td>0.173460</td>\n",
       "      <td>0.0</td>\n",
       "      <td>0.378644</td>\n",
       "      <td>1.724790</td>\n",
       "      <td>0.974903</td>\n",
       "    </tr>\n",
       "    <tr>\n",
       "      <th>7</th>\n",
       "      <td>id</td>\n",
       "      <td>0.0</td>\n",
       "      <td>1017207.0</td>\n",
       "      <td>1017207.0</td>\n",
       "      <td>508518.856749</td>\n",
       "      <td>508810.0</td>\n",
       "      <td>293464.542300</td>\n",
       "      <td>-0.000361</td>\n",
       "      <td>-1.199537</td>\n",
       "    </tr>\n",
       "    <tr>\n",
       "      <th>8</th>\n",
       "      <td>competition_distance</td>\n",
       "      <td>20.0</td>\n",
       "      <td>75860.0</td>\n",
       "      <td>75840.0</td>\n",
       "      <td>5430.478119</td>\n",
       "      <td>NaN</td>\n",
       "      <td>7716.182396</td>\n",
       "      <td>2.928578</td>\n",
       "      <td>12.999457</td>\n",
       "    </tr>\n",
       "    <tr>\n",
       "      <th>9</th>\n",
       "      <td>competition_open_since_month</td>\n",
       "      <td>1.0</td>\n",
       "      <td>12.0</td>\n",
       "      <td>11.0</td>\n",
       "      <td>6.781137</td>\n",
       "      <td>7.0</td>\n",
       "      <td>3.319975</td>\n",
       "      <td>-0.039549</td>\n",
       "      <td>-1.241021</td>\n",
       "    </tr>\n",
       "    <tr>\n",
       "      <th>10</th>\n",
       "      <td>competition_open_since_year</td>\n",
       "      <td>1900.0</td>\n",
       "      <td>2015.0</td>\n",
       "      <td>115.0</td>\n",
       "      <td>2010.319321</td>\n",
       "      <td>2012.0</td>\n",
       "      <td>5.509146</td>\n",
       "      <td>-7.241080</td>\n",
       "      <td>124.259548</td>\n",
       "    </tr>\n",
       "    <tr>\n",
       "      <th>11</th>\n",
       "      <td>promo2</td>\n",
       "      <td>0.0</td>\n",
       "      <td>1.0</td>\n",
       "      <td>1.0</td>\n",
       "      <td>0.500384</td>\n",
       "      <td>1.0</td>\n",
       "      <td>0.500000</td>\n",
       "      <td>-0.001536</td>\n",
       "      <td>-2.000002</td>\n",
       "    </tr>\n",
       "    <tr>\n",
       "      <th>12</th>\n",
       "      <td>promo2_since_week</td>\n",
       "      <td>1.0</td>\n",
       "      <td>52.0</td>\n",
       "      <td>51.0</td>\n",
       "      <td>23.569072</td>\n",
       "      <td>22.0</td>\n",
       "      <td>14.354062</td>\n",
       "      <td>0.189001</td>\n",
       "      <td>-1.188133</td>\n",
       "    </tr>\n",
       "    <tr>\n",
       "      <th>13</th>\n",
       "      <td>promo2_since_year</td>\n",
       "      <td>2009.0</td>\n",
       "      <td>2015.0</td>\n",
       "      <td>6.0</td>\n",
       "      <td>2012.784736</td>\n",
       "      <td>2013.0</td>\n",
       "      <td>1.655173</td>\n",
       "      <td>-0.791887</td>\n",
       "      <td>-0.194313</td>\n",
       "    </tr>\n",
       "    <tr>\n",
       "      <th>14</th>\n",
       "      <td>is_promo</td>\n",
       "      <td>0.0</td>\n",
       "      <td>1.0</td>\n",
       "      <td>1.0</td>\n",
       "      <td>0.152967</td>\n",
       "      <td>0.0</td>\n",
       "      <td>0.359956</td>\n",
       "      <td>1.928197</td>\n",
       "      <td>1.717947</td>\n",
       "    </tr>\n",
       "  </tbody>\n",
       "</table>\n",
       "</div>"
      ],
      "text/plain": [
       "                      attributes     min        max      range           mean    median            std      skew    kurtosis\n",
       "0                          store     1.0     1115.0     1114.0     558.436424     558.0     321.909047 -0.000970   -1.200532\n",
       "1                    day_of_week     1.0        7.0        6.0       3.998315       4.0       1.997349  0.001618   -1.246824\n",
       "2                          sales     0.0    41551.0    41551.0    5770.573039    5741.0    3852.565888  0.643199    1.780100\n",
       "3                      customers     0.0     7388.0     7388.0     633.302988     610.0     464.942753  1.596438    7.073761\n",
       "4                           open     0.0        1.0        1.0       0.829645       1.0       0.375944 -1.753697    1.075454\n",
       "5                          promo     0.0        1.0        1.0       0.381894       0.0       0.485851  0.486181   -1.763631\n",
       "6                 school_holiday     0.0        1.0        1.0       0.173460       0.0       0.378644  1.724790    0.974903\n",
       "7                             id     0.0  1017207.0  1017207.0  508518.856749  508810.0  293464.542300 -0.000361   -1.199537\n",
       "8           competition_distance    20.0    75860.0    75840.0    5430.478119       NaN    7716.182396  2.928578   12.999457\n",
       "9   competition_open_since_month     1.0       12.0       11.0       6.781137       7.0       3.319975 -0.039549   -1.241021\n",
       "10   competition_open_since_year  1900.0     2015.0      115.0    2010.319321    2012.0       5.509146 -7.241080  124.259548\n",
       "11                        promo2     0.0        1.0        1.0       0.500384       1.0       0.500000 -0.001536   -2.000002\n",
       "12             promo2_since_week     1.0       52.0       51.0      23.569072      22.0      14.354062  0.189001   -1.188133\n",
       "13             promo2_since_year  2009.0     2015.0        6.0    2012.784736    2013.0       1.655173 -0.791887   -0.194313\n",
       "14                      is_promo     0.0        1.0        1.0       0.152967       0.0       0.359956  1.928197    1.717947"
      ]
     },
     "execution_count": 39,
     "metadata": {},
     "output_type": "execute_result"
    }
   ],
   "source": [
    "# Central tendency - mean, median\n",
    "ct1 = pd.DataFrame( num_attributes.apply(np.mean) ).T\n",
    "ct2 = pd.DataFrame( num_attributes.apply(np.median) ).T\n",
    "\n",
    "# Dispersion - std, min, max, range, skew, kurtosis\n",
    "d1=pd.DataFrame(num_attributes.apply(np.std)).T\n",
    "d2=pd.DataFrame(num_attributes.apply(min)).T\n",
    "d3=pd.DataFrame(num_attributes.apply(max)).T\n",
    "d4=pd.DataFrame(num_attributes.apply(lambda x: x.max()-x.min())).T\n",
    "d5=pd.DataFrame(num_attributes.apply(lambda x: x.skew())).T\n",
    "d6=pd.DataFrame(num_attributes.apply(lambda x: x.kurtosis())).T\n",
    "\n",
    "# Concatenate\n",
    "m = pd.concat([d2, d3, d4, ct1, ct2, d1, d5, d6]).T.reset_index()\n",
    "#nomeando os atributos, as colunas\n",
    "m.columns=['attributes','min','max','range','mean','median','std','skew','kurtosis']\n",
    "m"
   ]
  },
  {
   "cell_type": "code",
   "execution_count": 40,
   "metadata": {
    "id": "nv02Kl5DdiDx"
   },
   "outputs": [
    {
     "name": "stdout",
     "output_type": "stream",
     "text": [
      "seaborn @ file:///home/conda/feedstock_root/build_artifacts/seaborn-split_1696262444380/work\n"
     ]
    },
    {
     "data": {
      "image/png": "[encoded data removed]",
      "text/plain": [
       "<Figure size 500x500 with 1 Axes>"
      ]
     },
     "metadata": {},
     "output_type": "display_data"
    },
    {
     "data": {
      "image/png": "[encoded data removed]",
      "text/plain": [
       "<Figure size 500x500 with 1 Axes>"
      ]
     },
     "metadata": {},
     "output_type": "display_data"
    }
   ],
   "source": [
    "#sns.distplot(df1['sales']) #`distplot` is a deprecated function and will be removed in seaborn v0.14.0.\n",
    "sns.displot(df1['sales'])\n",
    "sns.displot(df1['competition_distance'])\n",
    "!pip freeze | grep seaborn"
   ]
  },
  {
   "cell_type": "markdown",
   "metadata": {
    "id": "kjN_FJF9diDx"
   },
   "source": [
    "### 1.7.2 Categorial Attributes"
   ]
  },
  {
   "cell_type": "code",
   "execution_count": 41,
   "metadata": {
    "id": "bZxFIuvNdiDy"
   },
   "outputs": [
    {
     "data": {
      "text/plain": [
       "state_holiday      4\n",
       "store_type         4\n",
       "assortment         3\n",
       "promo_interval     4\n",
       "month_map         12\n",
       "dtype: int64"
      ]
     },
     "execution_count": 41,
     "metadata": {},
     "output_type": "execute_result"
    }
   ],
   "source": [
    "#Quantos niveis cada variável categorica tem? Como aplicar 1 função em todas as colunas?\n",
    "cat_attributes.apply(lambda x: x.unique().shape[0])"
   ]
  },
  {
   "cell_type": "code",
   "execution_count": 42,
   "metadata": {
    "id": "2pv2g6czdiDz"
   },
   "outputs": [
    {
     "data": {
      "text/plain": [
       "state_holiday                                          [0, a, b, c]\n",
       "store_type                                             [c, a, d, b]\n",
       "assortment                                                [a, c, b]\n",
       "promo_interval    [0, Jan,Apr,Jul,Oct, Feb,May,Aug,Nov, Mar,Jun,...\n",
       "month_map         [Jul, Jun, May, Apr, Mar, Fev, Jan, Dec, Nov, ...\n",
       "dtype: object"
      ]
     },
     "execution_count": 42,
     "metadata": {},
     "output_type": "execute_result"
    }
   ],
   "source": [
    "#Quantos niveis cada variável categorica tem? Como aplicar 1 função em todas as colunas?\n",
    "cat_attributes.apply(lambda x: x.unique())"
   ]
  },
  {
   "cell_type": "code",
   "execution_count": 43,
   "metadata": {
    "id": "Kd8ccrGddiDz"
   },
   "outputs": [],
   "source": [
    "# a dimensão das variáveis está muito diferente\n",
    "# provavel razão, dias fechado tendo vendas igual a zero"
   ]
  },
  {
   "cell_type": "code",
   "execution_count": 44,
   "metadata": {
    "id": "fMv_pBaZdiDz"
   },
   "outputs": [
    {
     "data": {
      "text/plain": [
       "<Axes: xlabel='state_holiday', ylabel='sales'>"
      ]
     },
     "execution_count": 44,
     "metadata": {},
     "output_type": "execute_result"
    },
    {
     "data": {
      "image/png": "[encoded data removed]",
      "text/plain": [
       "<Figure size 2500x1200 with 1 Axes>"
      ]
     },
     "metadata": {},
     "output_type": "display_data"
    }
   ],
   "source": [
    "aux1=df1[(df1['state_holiday']!=0) & (df1['sales']>0)]\n",
    "sns.boxplot(x='state_holiday', y='sales', data=df1)"
   ]
  },
  {
   "cell_type": "code",
   "execution_count": 45,
   "metadata": {
    "id": "Lg5KbNjYdiD0"
   },
   "outputs": [
    {
     "data": {
      "text/plain": [
       "<Axes: xlabel='assortment', ylabel='sales'>"
      ]
     },
     "execution_count": 45,
     "metadata": {},
     "output_type": "execute_result"
    },
    {
     "data": {
      "image/png": "[encoded data removed]",
      "text/plain": [
       "<Figure size 2500x1200 with 3 Axes>"
      ]
     },
     "metadata": {},
     "output_type": "display_data"
    }
   ],
   "source": [
    "aux1=df1[(df1['state_holiday']!='0') & (df1['sales']>0) & (df1['sales']<25000)] #dia diferente do feriado e com vendas acima de zero\n",
    "\n",
    "plt.subplot(1,7,1) #1 linha, 3 colunas, na posicão 1\n",
    "sns.boxplot(x='state_holiday', y='sales', data=aux1)\n",
    "\n",
    "plt.subplot(1,7,4) #1 linha, 3 colunas, na posicão 2\n",
    "sns.boxplot(x='store_type', y='sales', data=aux1)\n",
    "\n",
    "plt.subplot(1,7,7) #1 linha, 3 colunas, na posicão 1\n",
    "sns.boxplot(x='assortment', y='sales', data=aux1)\n"
   ]
  },
  {
   "cell_type": "markdown",
   "metadata": {
    "id": "yRvYZktMdiD1"
   },
   "source": [
    "# 2.0. PASSO 02 - FEATURE ENGINEERING"
   ]
  },
  {
   "cell_type": "code",
   "execution_count": 46,
   "metadata": {
    "id": "W1_NFVSUdiD2"
   },
   "outputs": [],
   "source": [
    "df2=df1.copy()"
   ]
  },
  {
   "cell_type": "markdown",
   "metadata": {
    "id": "L2JY3pNpdiD2",
    "jp-MarkdownHeadingCollapsed": true
   },
   "source": [
    "## 2.1. Mapa Mental de Hipoteses"
   ]
  },
  {
   "cell_type": "code",
   "execution_count": 47,
   "metadata": {
    "id": "eoVmIsD6diD2"
   },
   "outputs": [
    {
     "ename": "FileNotFoundError",
     "evalue": "No such file or directory: 'img/MindMapHipoteses_m03.png'",
     "output_type": "error",
     "traceback": [
      "\u001b[0;31m---------------------------------------------------------------------------\u001b[0m",
      "\u001b[0;31mTypeError\u001b[0m                                 Traceback (most recent call last)",
      "File \u001b[0;32m/opt/conda/lib/python3.11/site-packages/IPython/core/display.py:1045\u001b[0m, in \u001b[0;36mImage._data_and_metadata\u001b[0;34m(self, always_both)\u001b[0m\n\u001b[1;32m   1044\u001b[0m \u001b[38;5;28;01mtry\u001b[39;00m:\n\u001b[0;32m-> 1045\u001b[0m     b64_data \u001b[38;5;241m=\u001b[39m \u001b[43mb2a_base64\u001b[49m\u001b[43m(\u001b[49m\u001b[38;5;28;43mself\u001b[39;49m\u001b[38;5;241;43m.\u001b[39;49m\u001b[43mdata\u001b[49m\u001b[43m,\u001b[49m\u001b[43m \u001b[49m\u001b[43mnewline\u001b[49m\u001b[38;5;241;43m=\u001b[39;49m\u001b[38;5;28;43;01mFalse\u001b[39;49;00m\u001b[43m)\u001b[49m\u001b[38;5;241m.\u001b[39mdecode(\u001b[38;5;124m\"\u001b[39m\u001b[38;5;124mascii\u001b[39m\u001b[38;5;124m\"\u001b[39m)\n\u001b[1;32m   1046\u001b[0m \u001b[38;5;28;01mexcept\u001b[39;00m \u001b[38;5;167;01mTypeError\u001b[39;00m \u001b[38;5;28;01mas\u001b[39;00m e:\n",
      "\u001b[0;31mTypeError\u001b[0m: a bytes-like object is required, not 'str'",
      "\nThe above exception was the direct cause of the following exception:\n",
      "\u001b[0;31mFileNotFoundError\u001b[0m                         Traceback (most recent call last)",
      "File \u001b[0;32m/opt/conda/lib/python3.11/site-packages/IPython/core/formatters.py:974\u001b[0m, in \u001b[0;36mMimeBundleFormatter.__call__\u001b[0;34m(self, obj, include, exclude)\u001b[0m\n\u001b[1;32m    971\u001b[0m     method \u001b[38;5;241m=\u001b[39m get_real_method(obj, \u001b[38;5;28mself\u001b[39m\u001b[38;5;241m.\u001b[39mprint_method)\n\u001b[1;32m    973\u001b[0m     \u001b[38;5;28;01mif\u001b[39;00m method \u001b[38;5;129;01mis\u001b[39;00m \u001b[38;5;129;01mnot\u001b[39;00m \u001b[38;5;28;01mNone\u001b[39;00m:\n\u001b[0;32m--> 974\u001b[0m         \u001b[38;5;28;01mreturn\u001b[39;00m \u001b[43mmethod\u001b[49m\u001b[43m(\u001b[49m\u001b[43minclude\u001b[49m\u001b[38;5;241;43m=\u001b[39;49m\u001b[43minclude\u001b[49m\u001b[43m,\u001b[49m\u001b[43m \u001b[49m\u001b[43mexclude\u001b[49m\u001b[38;5;241;43m=\u001b[39;49m\u001b[43mexclude\u001b[49m\u001b[43m)\u001b[49m\n\u001b[1;32m    975\u001b[0m     \u001b[38;5;28;01mreturn\u001b[39;00m \u001b[38;5;28;01mNone\u001b[39;00m\n\u001b[1;32m    976\u001b[0m \u001b[38;5;28;01melse\u001b[39;00m:\n",
      "File \u001b[0;32m/opt/conda/lib/python3.11/site-packages/IPython/core/display.py:1035\u001b[0m, in \u001b[0;36mImage._repr_mimebundle_\u001b[0;34m(self, include, exclude)\u001b[0m\n\u001b[1;32m   1033\u001b[0m \u001b[38;5;28;01mif\u001b[39;00m \u001b[38;5;28mself\u001b[39m\u001b[38;5;241m.\u001b[39membed:\n\u001b[1;32m   1034\u001b[0m     mimetype \u001b[38;5;241m=\u001b[39m \u001b[38;5;28mself\u001b[39m\u001b[38;5;241m.\u001b[39m_mimetype\n\u001b[0;32m-> 1035\u001b[0m     data, metadata \u001b[38;5;241m=\u001b[39m \u001b[38;5;28;43mself\u001b[39;49m\u001b[38;5;241;43m.\u001b[39;49m\u001b[43m_data_and_metadata\u001b[49m\u001b[43m(\u001b[49m\u001b[43malways_both\u001b[49m\u001b[38;5;241;43m=\u001b[39;49m\u001b[38;5;28;43;01mTrue\u001b[39;49;00m\u001b[43m)\u001b[49m\n\u001b[1;32m   1036\u001b[0m     \u001b[38;5;28;01mif\u001b[39;00m metadata:\n\u001b[1;32m   1037\u001b[0m         metadata \u001b[38;5;241m=\u001b[39m {mimetype: metadata}\n",
      "File \u001b[0;32m/opt/conda/lib/python3.11/site-packages/IPython/core/display.py:1047\u001b[0m, in \u001b[0;36mImage._data_and_metadata\u001b[0;34m(self, always_both)\u001b[0m\n\u001b[1;32m   1045\u001b[0m     b64_data \u001b[38;5;241m=\u001b[39m b2a_base64(\u001b[38;5;28mself\u001b[39m\u001b[38;5;241m.\u001b[39mdata, newline\u001b[38;5;241m=\u001b[39m\u001b[38;5;28;01mFalse\u001b[39;00m)\u001b[38;5;241m.\u001b[39mdecode(\u001b[38;5;124m\"\u001b[39m\u001b[38;5;124mascii\u001b[39m\u001b[38;5;124m\"\u001b[39m)\n\u001b[1;32m   1046\u001b[0m \u001b[38;5;28;01mexcept\u001b[39;00m \u001b[38;5;167;01mTypeError\u001b[39;00m \u001b[38;5;28;01mas\u001b[39;00m e:\n\u001b[0;32m-> 1047\u001b[0m     \u001b[38;5;28;01mraise\u001b[39;00m \u001b[38;5;167;01mFileNotFoundError\u001b[39;00m(\n\u001b[1;32m   1048\u001b[0m         \u001b[38;5;124m\"\u001b[39m\u001b[38;5;124mNo such file or directory: \u001b[39m\u001b[38;5;124m'\u001b[39m\u001b[38;5;132;01m%s\u001b[39;00m\u001b[38;5;124m'\u001b[39m\u001b[38;5;124m\"\u001b[39m \u001b[38;5;241m%\u001b[39m (\u001b[38;5;28mself\u001b[39m\u001b[38;5;241m.\u001b[39mdata)) \u001b[38;5;28;01mfrom\u001b[39;00m \u001b[38;5;21;01me\u001b[39;00m\n\u001b[1;32m   1049\u001b[0m md \u001b[38;5;241m=\u001b[39m {}\n\u001b[1;32m   1050\u001b[0m \u001b[38;5;28;01mif\u001b[39;00m \u001b[38;5;28mself\u001b[39m\u001b[38;5;241m.\u001b[39mmetadata:\n",
      "\u001b[0;31mFileNotFoundError\u001b[0m: No such file or directory: 'img/MindMapHipoteses_m03.png'"
     ]
    },
    {
     "ename": "FileNotFoundError",
     "evalue": "No such file or directory: 'img/MindMapHipoteses_m03.png'",
     "output_type": "error",
     "traceback": [
      "\u001b[0;31m---------------------------------------------------------------------------\u001b[0m",
      "\u001b[0;31mTypeError\u001b[0m                                 Traceback (most recent call last)",
      "File \u001b[0;32m/opt/conda/lib/python3.11/site-packages/IPython/core/display.py:1045\u001b[0m, in \u001b[0;36mImage._data_and_metadata\u001b[0;34m(self, always_both)\u001b[0m\n\u001b[1;32m   1044\u001b[0m \u001b[38;5;28;01mtry\u001b[39;00m:\n\u001b[0;32m-> 1045\u001b[0m     b64_data \u001b[38;5;241m=\u001b[39m \u001b[43mb2a_base64\u001b[49m\u001b[43m(\u001b[49m\u001b[38;5;28;43mself\u001b[39;49m\u001b[38;5;241;43m.\u001b[39;49m\u001b[43mdata\u001b[49m\u001b[43m,\u001b[49m\u001b[43m \u001b[49m\u001b[43mnewline\u001b[49m\u001b[38;5;241;43m=\u001b[39;49m\u001b[38;5;28;43;01mFalse\u001b[39;49;00m\u001b[43m)\u001b[49m\u001b[38;5;241m.\u001b[39mdecode(\u001b[38;5;124m\"\u001b[39m\u001b[38;5;124mascii\u001b[39m\u001b[38;5;124m\"\u001b[39m)\n\u001b[1;32m   1046\u001b[0m \u001b[38;5;28;01mexcept\u001b[39;00m \u001b[38;5;167;01mTypeError\u001b[39;00m \u001b[38;5;28;01mas\u001b[39;00m e:\n",
      "\u001b[0;31mTypeError\u001b[0m: a bytes-like object is required, not 'str'",
      "\nThe above exception was the direct cause of the following exception:\n",
      "\u001b[0;31mFileNotFoundError\u001b[0m                         Traceback (most recent call last)",
      "File \u001b[0;32m/opt/conda/lib/python3.11/site-packages/IPython/core/formatters.py:344\u001b[0m, in \u001b[0;36mBaseFormatter.__call__\u001b[0;34m(self, obj)\u001b[0m\n\u001b[1;32m    342\u001b[0m     method \u001b[38;5;241m=\u001b[39m get_real_method(obj, \u001b[38;5;28mself\u001b[39m\u001b[38;5;241m.\u001b[39mprint_method)\n\u001b[1;32m    343\u001b[0m     \u001b[38;5;28;01mif\u001b[39;00m method \u001b[38;5;129;01mis\u001b[39;00m \u001b[38;5;129;01mnot\u001b[39;00m \u001b[38;5;28;01mNone\u001b[39;00m:\n\u001b[0;32m--> 344\u001b[0m         \u001b[38;5;28;01mreturn\u001b[39;00m \u001b[43mmethod\u001b[49m\u001b[43m(\u001b[49m\u001b[43m)\u001b[49m\n\u001b[1;32m    345\u001b[0m     \u001b[38;5;28;01mreturn\u001b[39;00m \u001b[38;5;28;01mNone\u001b[39;00m\n\u001b[1;32m    346\u001b[0m \u001b[38;5;28;01melse\u001b[39;00m:\n",
      "File \u001b[0;32m/opt/conda/lib/python3.11/site-packages/IPython/core/display.py:1067\u001b[0m, in \u001b[0;36mImage._repr_png_\u001b[0;34m(self)\u001b[0m\n\u001b[1;32m   1065\u001b[0m \u001b[38;5;28;01mdef\u001b[39;00m \u001b[38;5;21m_repr_png_\u001b[39m(\u001b[38;5;28mself\u001b[39m):\n\u001b[1;32m   1066\u001b[0m     \u001b[38;5;28;01mif\u001b[39;00m \u001b[38;5;28mself\u001b[39m\u001b[38;5;241m.\u001b[39membed \u001b[38;5;129;01mand\u001b[39;00m \u001b[38;5;28mself\u001b[39m\u001b[38;5;241m.\u001b[39mformat \u001b[38;5;241m==\u001b[39m \u001b[38;5;28mself\u001b[39m\u001b[38;5;241m.\u001b[39m_FMT_PNG:\n\u001b[0;32m-> 1067\u001b[0m         \u001b[38;5;28;01mreturn\u001b[39;00m \u001b[38;5;28;43mself\u001b[39;49m\u001b[38;5;241;43m.\u001b[39;49m\u001b[43m_data_and_metadata\u001b[49m\u001b[43m(\u001b[49m\u001b[43m)\u001b[49m\n",
      "File \u001b[0;32m/opt/conda/lib/python3.11/site-packages/IPython/core/display.py:1047\u001b[0m, in \u001b[0;36mImage._data_and_metadata\u001b[0;34m(self, always_both)\u001b[0m\n\u001b[1;32m   1045\u001b[0m     b64_data \u001b[38;5;241m=\u001b[39m b2a_base64(\u001b[38;5;28mself\u001b[39m\u001b[38;5;241m.\u001b[39mdata, newline\u001b[38;5;241m=\u001b[39m\u001b[38;5;28;01mFalse\u001b[39;00m)\u001b[38;5;241m.\u001b[39mdecode(\u001b[38;5;124m\"\u001b[39m\u001b[38;5;124mascii\u001b[39m\u001b[38;5;124m\"\u001b[39m)\n\u001b[1;32m   1046\u001b[0m \u001b[38;5;28;01mexcept\u001b[39;00m \u001b[38;5;167;01mTypeError\u001b[39;00m \u001b[38;5;28;01mas\u001b[39;00m e:\n\u001b[0;32m-> 1047\u001b[0m     \u001b[38;5;28;01mraise\u001b[39;00m \u001b[38;5;167;01mFileNotFoundError\u001b[39;00m(\n\u001b[1;32m   1048\u001b[0m         \u001b[38;5;124m\"\u001b[39m\u001b[38;5;124mNo such file or directory: \u001b[39m\u001b[38;5;124m'\u001b[39m\u001b[38;5;132;01m%s\u001b[39;00m\u001b[38;5;124m'\u001b[39m\u001b[38;5;124m\"\u001b[39m \u001b[38;5;241m%\u001b[39m (\u001b[38;5;28mself\u001b[39m\u001b[38;5;241m.\u001b[39mdata)) \u001b[38;5;28;01mfrom\u001b[39;00m \u001b[38;5;21;01me\u001b[39;00m\n\u001b[1;32m   1049\u001b[0m md \u001b[38;5;241m=\u001b[39m {}\n\u001b[1;32m   1050\u001b[0m \u001b[38;5;28;01mif\u001b[39;00m \u001b[38;5;28mself\u001b[39m\u001b[38;5;241m.\u001b[39mmetadata:\n",
      "\u001b[0;31mFileNotFoundError\u001b[0m: No such file or directory: 'img/MindMapHipoteses_m03.png'"
     ]
    },
    {
     "data": {
      "text/plain": [
       "<IPython.core.display.Image object>"
      ]
     },
     "execution_count": 47,
     "metadata": {},
     "output_type": "execute_result"
    }
   ],
   "source": [
    "Image('img/MindMapHipoteses_m03.png')"
   ]
  },
  {
   "cell_type": "markdown",
   "metadata": {
    "id": "NZkO89h_diD3"
   },
   "source": [
    "## 2.1. Criação de Hipoteses"
   ]
  },
  {
   "cell_type": "markdown",
   "metadata": {
    "id": "BN-Vtt2adiD3"
   },
   "source": [
    "### 2.1.1. Hipóteses Loja"
   ]
  },
  {
   "cell_type": "markdown",
   "metadata": {
    "id": "Yp3OfJ6TdiD3"
   },
   "source": [
    "** 1.** Lojas com maior quadro de funcionários deveriam vender mais."
   ]
  },
  {
   "cell_type": "markdown",
   "metadata": {
    "id": "qznlfMDVdiD3"
   },
   "source": [
    "** 1. ** Lojas com maior estoque deveriam vender mais."
   ]
  },
  {
   "cell_type": "markdown",
   "metadata": {
    "id": "z_i_HWandiD4"
   },
   "source": [
    "**1.** Lojas com porte maior deveriam vender mais."
   ]
  },
  {
   "cell_type": "markdown",
   "metadata": {
    "id": "htSFms83diD4"
   },
   "source": [
    "**1.** Lojas com menor porte deveriam vender menos."
   ]
  },
  {
   "cell_type": "markdown",
   "metadata": {
    "id": "ptKJjxi9diD4"
   },
   "source": [
    "**1.** Lojas com maior sortimento deveriam vender mais."
   ]
  },
  {
   "cell_type": "markdown",
   "metadata": {
    "id": "_S-PxracdiD4"
   },
   "source": [
    "### 2.1.2. Hipóteses Produto"
   ]
  },
  {
   "cell_type": "markdown",
   "metadata": {
    "id": "ArPz6j-IdiD4"
   },
   "source": [
    "**1.** Lojas que investem mais em Marketing deveriam vender mais.\n",
    "\n",
    "**2.** Lojas com maior exposição de produtos nas vitrines deveriam vender mais.\n",
    "\n",
    "**3.** Lojas com produtos com preços menores deveriam vender mais.\n",
    "\n",
    "**4.** Lojas com promoções mais agressivas (descontos maiores), deveriam vender mais.\n",
    "\n",
    "**5.** Lojas com promoções activas por mais tempo deveriam vender mais.\n",
    "\n",
    "**6.** Lojas com + dias de promoção deveriam vender +.\n",
    "\n",
    "**4.** Lojas que tem preços menores por mais tempo nos produtos deveriam vender mais.\n",
    "\n",
    "**5.** Lojas com + promoções consecutivas deveriam vender +."
   ]
  },
  {
   "cell_type": "markdown",
   "metadata": {
    "id": "dMJzTkHfdiD4"
   },
   "source": [
    "### 2.1.3. Hipóteses Tempo"
   ]
  },
  {
   "cell_type": "markdown",
   "metadata": {
    "id": "cSrkq8KTdiD4"
   },
   "source": [
    "**1.** Lojas abertas durante o feriado de Natal deveriam vender menos.\n",
    "\n",
    "**1.** Lojas ao longo do ano deveriam vender mais.\n",
    "\n",
    "**1.** Lojas no segundo semestre do ano deveriam vender mais.\n",
    "\n",
    "**1.** Lojas depois do dia 10 de cada mes deveriam vender mais.\n",
    "\n",
    "**1.** Lojas nos finais de semana deveriam vender menos.\n",
    "\n",
    "**1.** Lojas nos Feriados escolares deveriam vender menos.\n",
    "    "
   ]
  },
  {
   "cell_type": "markdown",
   "metadata": {
    "id": "265VeFaodiD5"
   },
   "source": [
    "## 2.2. Lista Final de Hipóteses"
   ]
  },
  {
   "cell_type": "markdown",
   "metadata": {
    "id": "I0MqAkRBdiD5"
   },
   "source": [
    "**[1., 3.]** Lojas com [maior sortimento/ competidores à + tempo]  deveriam vender +."
   ]
  },
  {
   "cell_type": "markdown",
   "metadata": {
    "id": "yIcxYFQHdiD5"
   },
   "source": [
    "**[2., ]** Lojas com competidores + próximo deveriam vender - ."
   ]
  },
  {
   "cell_type": "markdown",
   "metadata": {
    "id": "QmBOrVEMdiD5"
   },
   "source": [
    "** Produtos **"
   ]
  },
  {
   "cell_type": "markdown",
   "metadata": {
    "id": "3rHzaoMndiD9"
   },
   "source": [
    "**[4., 5., 6.]** Lojas [promoções activas por mais tempo, com + [dias de promoção, promoções consecutivas]]  deveriam vender +"
   ]
  },
  {
   "cell_type": "markdown",
   "metadata": {
    "id": "NI9SmvyfdiD9"
   },
   "source": [
    "** Tempo **"
   ]
  },
  {
   "cell_type": "markdown",
   "metadata": {
    "id": "HF8YUa6VdiD-"
   },
   "source": [
    "**7.** Lojas abertas durante o feriado de Natal deveriam vender menos.\n",
    "\n",
    "**8.** Lojas ao longo do ano deveriam vender mais.\n",
    "\n",
    "**9.** Lojas no segundo semestre do ano deveriam vender mais.\n",
    "\n",
    "**10.** Lojas depois do dia 10 de cada mes deveriam vender mais.\n",
    "\n",
    "**11.** Lojas nos finais de semana deveriam vender menos.\n",
    "\n",
    "**12.** Lojas nos Feriados escolares deveriam vender menos."
   ]
  },
  {
   "cell_type": "markdown",
   "metadata": {
    "id": "Ydqm5yegdiD-",
    "jp-MarkdownHeadingCollapsed": true
   },
   "source": [
    "## 2.3. Feature Engineeringn"
   ]
  },
  {
   "cell_type": "code",
   "execution_count": 48,
   "metadata": {
    "id": "E1XHUEFCdiD_"
   },
   "outputs": [
    {
     "data": {
      "text/html": [
       "<div>\n",
       "<style scoped>\n",
       "    .dataframe tbody tr th:only-of-type {\n",
       "        vertical-align: middle;\n",
       "    }\n",
       "\n",
       "    .dataframe tbody tr th {\n",
       "        vertical-align: top;\n",
       "    }\n",
       "\n",
       "    .dataframe thead th {\n",
       "        text-align: right;\n",
       "    }\n",
       "</style>\n",
       "<table border=\"1\" class=\"dataframe\">\n",
       "  <thead>\n",
       "    <tr style=\"text-align: right;\">\n",
       "      <th></th>\n",
       "      <th>store</th>\n",
       "      <th>day_of_week</th>\n",
       "      <th>date</th>\n",
       "      <th>sales</th>\n",
       "      <th>customers</th>\n",
       "      <th>open</th>\n",
       "      <th>promo</th>\n",
       "      <th>state_holiday</th>\n",
       "      <th>school_holiday</th>\n",
       "      <th>id</th>\n",
       "      <th>store_type</th>\n",
       "      <th>assortment</th>\n",
       "      <th>competition_distance</th>\n",
       "      <th>competition_open_since_month</th>\n",
       "      <th>competition_open_since_year</th>\n",
       "      <th>promo2</th>\n",
       "      <th>promo2_since_week</th>\n",
       "      <th>promo2_since_year</th>\n",
       "      <th>promo_interval</th>\n",
       "      <th>month_map</th>\n",
       "      <th>is_promo</th>\n",
       "    </tr>\n",
       "  </thead>\n",
       "  <tbody>\n",
       "    <tr>\n",
       "      <th>140749</th>\n",
       "      <td>260</td>\n",
       "      <td>5</td>\n",
       "      <td>2015-03-13</td>\n",
       "      <td>5366</td>\n",
       "      <td>839</td>\n",
       "      <td>1</td>\n",
       "      <td>0</td>\n",
       "      <td>0</td>\n",
       "      <td>0</td>\n",
       "      <td>796482</td>\n",
       "      <td>a</td>\n",
       "      <td>a</td>\n",
       "      <td>540.0</td>\n",
       "      <td>10</td>\n",
       "      <td>2011</td>\n",
       "      <td>0</td>\n",
       "      <td>11</td>\n",
       "      <td>2015</td>\n",
       "      <td>0</td>\n",
       "      <td>Mar</td>\n",
       "      <td>0</td>\n",
       "    </tr>\n",
       "  </tbody>\n",
       "</table>\n",
       "</div>"
      ],
      "text/plain": [
       "        store  day_of_week       date  sales  customers  open  promo state_holiday  school_holiday      id store_type assortment  competition_distance  competition_open_since_month  competition_open_since_year  promo2  promo2_since_week  promo2_since_year promo_interval month_map  is_promo\n",
       "140749    260            5 2015-03-13   5366        839     1      0             0               0  796482          a          a                 540.0                            10                         2011       0                 11               2015              0       Mar         0"
      ]
     },
     "execution_count": 48,
     "metadata": {},
     "output_type": "execute_result"
    }
   ],
   "source": [
    "df2.sample()"
   ]
  },
  {
   "cell_type": "code",
   "execution_count": null,
   "metadata": {
    "id": "QjMm6aHIdiD_"
   },
   "outputs": [],
   "source": [
    "# year\n",
    "df2['year']=df2['date'].dt.year\n",
    "\n",
    "# month\n",
    "df2['month']=df2['date'].dt.month\n",
    "\n",
    "# day\n",
    "df2['day']=df2['date'].dt.day\n",
    "\n",
    "# week of year\n",
    "# df2['week_of_year']=df2['date'].dt.weekofyear #AttributeError: 'DatetimeProperties' object has no attribute 'weekofyear'\n",
    "# Deprecated since version 1.1.0.\n",
    "#https://pandas.pydata.org/pandas-docs/version/1.3/reference/api/pandas.Series.dt.weekofyear.html\n",
    "\n",
    "#df2['week_of_year']=df2['date'].dt.isocalendar()\n",
    "#df2['week_of_year']=df2['date'].dt.isocalendar().week\n",
    "\n",
    "#df2['week_of_year']=df2['date'].dt.week #AttributeError: 'DatetimeProperties' object has no attribute 'week'\n",
    "\n",
    "# year week\n",
    "df2['year_week']=df2['date'].dt.strftime('%Y-%W') #AttributeError: 'DatetimeProperties' object has no attribute 'srtftime'\n",
    "df2['year_week'].sample(5)\n",
    "# competition since\n",
    "#competition_open_since_month\tcompetition_open_since_year\n",
    "year='competition_open_since_year'\n",
    "month='competition_open_since_month'\n",
    "# considerou-se que o primeiro dia do mes, o dia que iniciou a competição #tempo desde que a competição começou em meses\n",
    "df2['competition_open_since']=df2.apply( lambda x: datetime.datetime(year=x[year],month=x[month],day=1), axis=1)\n",
    "df2['competition_time_month']=((df2['date']-df2['competition_open_since'])/30).apply(lambda x: x.days).astype(int)\n",
    "df2['competition_time_month'].sample()\n",
    "\n",
    "# promo since\n",
    "# promo2_since_week\tpromo2_since_year\n",
    "\n",
    "# assortment\n",
    "# state holiday"
   ]
  },
  {
   "cell_type": "code",
   "execution_count": null,
   "metadata": {
    "id": "VNqCHqiJdiD_"
   },
   "outputs": [],
   "source": [
    "# promo since\n",
    "# promo2_since_week\tpromo2_since_year\n",
    "df2['promo_since'] = df2['promo2_since_year'].astype(str) + '-' + df2['promo2_since_week'].astype(str)\n",
    "df2['promo_since'].sample()\n"
   ]
  },
  {
   "cell_type": "code",
   "execution_count": null,
   "metadata": {
    "id": "TF-cxM9FdiEA"
   },
   "outputs": [],
   "source": [
    "#passando a campo 'promo_since' de string para datetime64\n",
    "df2['promo_since']=df2['promo_since'].apply(lambda x: datetime.datetime.strptime(x + '-1', '%Y-%W-%w') - datetime.timedelta(days=7))\n",
    "\n",
    "df2['promo_since'].sample()"
   ]
  },
  {
   "cell_type": "code",
   "execution_count": null,
   "metadata": {
    "id": "vyXI9D32diEB"
   },
   "outputs": [],
   "source": [
    "# calculando o tempo, em semanas, desde que a promoção está activa, entre duas datas\n",
    "# sinal negativo, vendas no período tradicional da promoção\n",
    "# sinal positivo, vendas no período extendido da promoção\n",
    "df2['promo_time_week']=((df2['date']-df2['promo_since'])/7).apply(lambda x: x.days).astype(int)\n",
    "df2['promo_time_week'].sample(5)"
   ]
  },
  {
   "cell_type": "code",
   "execution_count": null,
   "metadata": {
    "id": "Yq-tOmYMdiEB"
   },
   "outputs": [],
   "source": [
    "# assortment\n",
    "\n",
    "df2['assortment']=df2['assortment'].apply(lambda x: 'basic' if x == 'a' else 'extra' if x=='b' else 'extended')\n",
    "df2['assortment'].sample(5)\n"
   ]
  },
  {
   "cell_type": "code",
   "execution_count": null,
   "metadata": {
    "id": "vIN9n5cPdiEB"
   },
   "outputs": [],
   "source": [
    "#df2=df1.copy()"
   ]
  },
  {
   "cell_type": "code",
   "execution_count": null,
   "metadata": {
    "id": "m5EGUptDdiEC"
   },
   "outputs": [],
   "source": [
    "df2['state_holiday'].unique()"
   ]
  },
  {
   "cell_type": "code",
   "execution_count": null,
   "metadata": {
    "id": "jgIAUo2WdiEC"
   },
   "outputs": [],
   "source": [
    "# state holiday\n",
    "# a = public holiday, b = Easter holiday, c = Christmas, 0 = None\n",
    "df2['state_holiday']=df2['state_holiday'].apply(lambda x: 'public holiday' if x=='a' else 'Easter holiday' if x=='b'  else 'Christmas' if x=='c' else 'regular_day')\n",
    "df2['state_holiday'].unique()"
   ]
  },
  {
   "cell_type": "markdown",
   "metadata": {
    "id": "oorEli6cdiEC",
    "jp-MarkdownHeadingCollapsed": true
   },
   "source": [
    "# 3.0. PASSO 03 - FILTRAGEM DE VARIÁVEIS"
   ]
  },
  {
   "cell_type": "code",
   "execution_count": null,
   "metadata": {
    "id": "8XDSmwMsdiED"
   },
   "outputs": [],
   "source": [
    "df3=df2.copy()"
   ]
  },
  {
   "cell_type": "code",
   "execution_count": null,
   "metadata": {
    "id": "g0_lM6gediED"
   },
   "outputs": [],
   "source": [
    "df3['assortment'].unique()"
   ]
  },
  {
   "cell_type": "code",
   "execution_count": null,
   "metadata": {
    "id": "jktE8GMKdiED"
   },
   "outputs": [],
   "source": [
    "df3.sample()"
   ]
  },
  {
   "cell_type": "markdown",
   "metadata": {
    "id": "7s1oi9zzdiED"
   },
   "source": [
    "## 3.1 Filtragem das linhas"
   ]
  },
  {
   "cell_type": "code",
   "execution_count": null,
   "metadata": {
    "id": "_B2_MI0ZdiEE"
   },
   "outputs": [],
   "source": [
    "df3 = df3[( df3['open'] != 0) & (df3['sales']>0)]"
   ]
  },
  {
   "cell_type": "markdown",
   "metadata": {
    "id": "XzEmEV0WdiEE"
   },
   "source": [
    "## 3.2 Seleção das colunas"
   ]
  },
  {
   "cell_type": "code",
   "execution_count": null,
   "metadata": {
    "id": "gHb_kCUHdiEE"
   },
   "outputs": [],
   "source": [
    "cols_drop = ['customers', 'open', 'promo_interval', 'month_map']\n",
    "df3 = df3.drop(cols_drop, axis=1) #axis=1 são colunas"
   ]
  },
  {
   "cell_type": "code",
   "execution_count": null,
   "metadata": {
    "id": "yufh4UuqdiEE"
   },
   "outputs": [],
   "source": [
    "df3.columns"
   ]
  },
  {
   "cell_type": "code",
   "execution_count": null,
   "metadata": {
    "id": "giz09LrzdiEF"
   },
   "outputs": [],
   "source": []
  },
  {
   "cell_type": "markdown",
   "metadata": {
    "id": "fMcwVztudiEF"
   },
   "source": [
    "# 4.0. PASSO 04 - ANÁLISE EXPLORATÓRIA DE DADOS"
   ]
  },
  {
   "cell_type": "markdown",
   "metadata": {
    "id": "BuY2A8vWdiEG",
    "jp-MarkdownHeadingCollapsed": true
   },
   "source": [
    "### 4.1. Análise Univariada"
   ]
  },
  {
   "cell_type": "code",
   "execution_count": null,
   "metadata": {
    "id": "dU2MzBBldiEH"
   },
   "outputs": [],
   "source": [
    "df4 = df3.copy()"
   ]
  },
  {
   "cell_type": "code",
   "execution_count": null,
   "metadata": {
    "id": "gcxeiPG_diEH"
   },
   "outputs": [],
   "source": [
    "df4['assortment'].unique()"
   ]
  },
  {
   "cell_type": "markdown",
   "metadata": {
    "id": "GVc2CDdCdiEI"
   },
   "source": [
    "#### 4.1.1. Response Variable"
   ]
  },
  {
   "cell_type": "code",
   "execution_count": null,
   "metadata": {
    "id": "pempQi0NdiEI"
   },
   "outputs": [],
   "source": [
    "sns.displot(df4['sales'])"
   ]
  },
  {
   "cell_type": "code",
   "execution_count": null,
   "metadata": {
    "id": "EE7ydKh_diEI"
   },
   "outputs": [],
   "source": [
    "sns.displot(df4['sales'])"
   ]
  },
  {
   "cell_type": "code",
   "execution_count": null,
   "metadata": {
    "id": "6FG9lVjWdiEI"
   },
   "outputs": [],
   "source": [
    "sns.distplot(np.log(df4['sales']))"
   ]
  },
  {
   "cell_type": "markdown",
   "metadata": {
    "id": "OzhorytudiEJ"
   },
   "source": [
    "#### 4.1.2. Numerical Variable"
   ]
  },
  {
   "cell_type": "code",
   "execution_count": null,
   "metadata": {
    "id": "1OqwegOYdiEJ"
   },
   "outputs": [],
   "source": [
    "num_attributes.hist(bins=25)"
   ]
  },
  {
   "cell_type": "code",
   "execution_count": null,
   "metadata": {
    "id": "D17kPssvdiEJ"
   },
   "outputs": [],
   "source": [
    "cat_attributes.sample(5)"
   ]
  },
  {
   "cell_type": "code",
   "execution_count": null,
   "metadata": {
    "id": "w_eWl9xLdiEK"
   },
   "outputs": [],
   "source": [
    "df4['state_holiday'].drop_duplicates()"
   ]
  },
  {
   "cell_type": "code",
   "execution_count": null,
   "metadata": {
    "id": "Wii_GkAjdiEK"
   },
   "outputs": [],
   "source": [
    "#df4[df4['state_holiday']!='public holiday']"
   ]
  },
  {
   "cell_type": "code",
   "execution_count": null,
   "metadata": {
    "id": "GKBqm7ZPdiEK"
   },
   "outputs": [],
   "source": [
    "#sns.countplot(df4['state_holiday'], orient='v')"
   ]
  },
  {
   "cell_type": "code",
   "execution_count": null,
   "metadata": {
    "id": "ioyedFkzdiEN"
   },
   "outputs": [],
   "source": [
    "#state_holiday\n",
    "\n",
    "#store_type\n",
    "\n",
    "#assortment"
   ]
  },
  {
   "cell_type": "markdown",
   "metadata": {
    "id": "qRYsp1UpdiEN"
   },
   "source": [
    "#### 4.1.3. Categorical Variable"
   ]
  },
  {
   "cell_type": "code",
   "execution_count": null,
   "metadata": {
    "id": "HAJP2CgXdiEO"
   },
   "outputs": [],
   "source": [
    "df4['state_holiday'].drop_duplicates()"
   ]
  },
  {
   "cell_type": "code",
   "execution_count": null,
   "metadata": {
    "id": "eZ2YRO52diEO"
   },
   "outputs": [],
   "source": [
    "df4['state_holiday'].sample(4)"
   ]
  },
  {
   "cell_type": "code",
   "execution_count": null,
   "metadata": {
    "id": "99V_JMmYdiEP"
   },
   "outputs": [],
   "source": [
    "df4[(df4['state_holiday']!='regular_day')&(df4['state_holiday']!='public holiday')&(df4['state_holiday']!='Easter holiday')].sample(5)"
   ]
  },
  {
   "cell_type": "code",
   "execution_count": null,
   "metadata": {
    "id": "SNZmYFkndiEP"
   },
   "outputs": [],
   "source": [
    "df5=df4[df4['state_holiday'] != 'regular_day']"
   ]
  },
  {
   "cell_type": "code",
   "execution_count": null,
   "metadata": {
    "id": "jCujld2wdiEP"
   },
   "outputs": [],
   "source": [
    "# lista diferente de 'regular_day'\n",
    "df5.state_holiday.unique()"
   ]
  },
  {
   "cell_type": "code",
   "execution_count": null,
   "metadata": {
    "id": "yqt6GPt8diEQ"
   },
   "outputs": [],
   "source": [
    "#recebendo o tamanho da lista\n",
    "for i in range(len(df4.state_holiday.unique())): # identificando o tamanho da lista\n",
    "    if df4.state_holiday.unique()[i]!='regular_day': # verificando o valor do indice\n",
    "        print(df4.state_holiday.unique()[i]) #visualizando o valor\n",
    "        print (i) # mostrando o indice"
   ]
  },
  {
   "cell_type": "code",
   "execution_count": null,
   "metadata": {
    "id": "nyv3u7bVdiEQ"
   },
   "outputs": [],
   "source": [
    "def plots(df, n):\n",
    "    #for i to n:\n",
    "    #        plt.subplot(1,n,i+1)\n",
    "    plt.subplot(1,n,1)\n",
    "    sns.countplot(df5['state_holiday'], orient='h' ) # “y” | “h” |“v” |  “x” | “y”\n",
    "\n",
    "    #plt.subplot(1,n,i+1)\n",
    "    plt.subplot(1,n,2)\n",
    "    #label='public holiday'\n",
    "    #sns.kdeplot(df4[df4['state_holiday']==label]['sales'], label=label, shade=True) #'Easter holiday, Christmas\n",
    "    # `shade` is now deprecated in favor of `fill`; setting `fill=True`.\n",
    "    #This will become an error in seaborn v0.14.0; please update your code.\n",
    "    #for i in\n",
    "    #import numpy.dtype\n",
    "    for i in range(len(df4.state_holiday.unique())): # identificando o tamanho da lista\n",
    "        if df4.state_holiday.unique()[i]!='regular_day': # verificando o valor do indice\n",
    "            #print(df4.state_holiday.unique()[i]) #visualizando o valor\n",
    "            label=df4.state_holiday.unique()[i]\n",
    "            #df4.state_holiday.unique()[i]\n",
    "            #sns.kdeplot(df4[df==label]['sales'], label=label, fill=True) #'Easter holiday, Christmas\n",
    "            #sns.kdeplot(df4[df==int(df4.state_holiday.unique()[i])]['sales'], label=label, fill=True)\n",
    "\n",
    "            #np.dtype(df4.state_holiday.unique()[i]) # TypeError: data type 'public holiday' not understood\n",
    "            #label=df4.state_holiday.unique()[i] #'public holiday'\n",
    "            sns.kdeplot(df4[df4['state_holiday']==label]['sales'], label=label, fill=True)\n",
    "            print(label)\n",
    "    #o grafico sobreposto e transparente facilita a observação do pico e largura na distribuição das variáveis\n",
    "    # visualizando as distribuições sobre postas\n",
    "\n",
    "plots(df4['state_holiday'], 2)"
   ]
  },
  {
   "cell_type": "code",
   "execution_count": null,
   "metadata": {
    "id": "s2u8pP8xdiER"
   },
   "outputs": [],
   "source": [
    "#no primeiro plot não visualizo a categoria Christmas no grafico\n",
    "#no segundo plot não visualiza a legenda das categorias"
   ]
  },
  {
   "cell_type": "code",
   "execution_count": null,
   "metadata": {
    "id": "9Fj89YK0diER"
   },
   "outputs": [],
   "source": [
    "#df4[df4['state_holiday']==label]['sales']"
   ]
  },
  {
   "cell_type": "code",
   "execution_count": null,
   "metadata": {
    "id": "vZTOYeNDdiES"
   },
   "outputs": [],
   "source": [
    "#public_holiday"
   ]
  },
  {
   "cell_type": "code",
   "execution_count": null,
   "metadata": {
    "id": "z2oj8FMXdiES"
   },
   "outputs": [],
   "source": [
    "df5.shape"
   ]
  },
  {
   "cell_type": "code",
   "execution_count": null,
   "metadata": {
    "id": "RThOHMmLdiES"
   },
   "outputs": [],
   "source": [
    "#plot(df4['state_holiday'],\n",
    "#def plot(df,\n",
    "#a = df4[df4['state_holiday']!='regular_day'] #'regular_day' , KeyError: \"None of [Index(['regular_day'\n",
    "###a = df4[df4['state_holiday']!='regular_day'] #'regular_day' , KeyError: \"None of [Index(['regular_day'\n",
    "###plt.subplot(1,2,1)\n",
    "###sns.countplot(a.state_holiday, orient='h') #orient=None , “v” | “h” | “x” | “y”\n",
    "###a.state_holiday.unique()\n",
    "# não apresenta informação de 'Christmas'] no grafico\n",
    "\n",
    "###plt.subplot(1,2,2)\n",
    "###for i in range(len(df4.state_holiday.unique())):\n",
    "    #grafico com as\n",
    "    ###label=df4.state_holiday.unique()[i]\n",
    "\n",
    "    ###if label != 'regular_day':\n",
    "        #print(df4.state_holiday.unique()[i])\n",
    "        ###sns.kdeplot(df4[df4['state_holiday']==label]['sales'], label=label, fill=True)\n",
    "        #print(i)\n",
    "# o grafico 1,\n",
    "# o grafico 2, não visualiza a legenda"
   ]
  },
  {
   "cell_type": "code",
   "execution_count": null,
   "metadata": {
    "id": "fPElIlcWdiET"
   },
   "outputs": [],
   "source": [
    "##plt.subplot(1,2,2)\n",
    "##label='public holiday'\n",
    "#sns.kdeplot(df4[df4['state_holiday']==label]['sales'], label=label, shade=True) #'Easter holiday, Christmas\n",
    "# `shade` is now deprecated in favor of `fill`; setting `fill=True`.\n",
    "#This will become an error in seaborn v0.14.0; please update your code.\n",
    "##sns.kdeplot(df4[df4['state_holiday']==label]['sales'], label=label, fill=True) #'Easter holiday, Christmas\n",
    "#o grafico sobreposto e transparente facilita a observação do pico e largura na distribuição das variáveis\n",
    "# visualizar as distribuições sobre postas\n"
   ]
  },
  {
   "cell_type": "code",
   "execution_count": null,
   "metadata": {
    "id": "FCmlggS6diEU"
   },
   "outputs": [],
   "source": [
    "#plot(df4['state_holiday'],\n",
    "#def plot(df,\n",
    "#a = df4[df4['state_holiday']!='regular_day'] #'regular_day' , KeyError: \"None of [Index(['regular_day'\n",
    "###a = df4[df4['state_holiday']!='regular_day'] #'regular_day' , KeyError: \"None of [Index(['regular_day'\n",
    "###plt.subplot(1,2,1)\n",
    "###sns.countplot(a.state_holiday, orient='h') #orient=None , “v” | “h” | “x” | “y”\n",
    "###a.state_holiday.unique()\n",
    "# não apresenta informação de 'Christmas'] no grafico\n",
    "\n",
    "###plt.subplot(1,2,2)\n",
    "###for i in range(len(df4.state_holiday.unique())):\n",
    "    #grafico com as\n",
    "    ###label=df4.state_holiday.unique()[i]\n",
    "\n",
    "    ###if label != 'regular_day':\n",
    "        #print(df4.state_holiday.unique()[i])\n",
    "       ### sns.kdeplot(df4[df4['state_holiday']==label]['sales'], label=str(label), fill=True)\n",
    "        #print(i)\n",
    "# o grafico 1,\n",
    "# o grafico 2, não visualiza a legenda"
   ]
  },
  {
   "cell_type": "code",
   "execution_count": null,
   "metadata": {
    "id": "hQGl6q_IdiEU"
   },
   "outputs": [],
   "source": [
    "#plot(df4['state_holiday'],\n",
    "#def plot(df,\n",
    "#a = df4[df4['state_holiday']!='regular_day'] #'regular_day' , KeyError: \"None of [Index(['regular_day'\n",
    "a = df4[df4['state_holiday']!='regular_day'] #'regular_day' , KeyError: \"None of [Index(['regular_day'\n",
    "plt.subplot(1,2,1)\n",
    "sns.countplot(a,x='state_holiday', orient='h') #orient=None , “v” | “h” | “x” | “y”\n",
    "a.state_holiday.unique()\n",
    "# não apresenta informação de 'Christmas'] no grafico\n",
    "\n",
    "plt.subplot(1,2,2)\n",
    "for i in range(len(df4.state_holiday.unique())):\n",
    "    #grafico com as\n",
    "    label=df4.state_holiday.unique()[i]\n",
    "\n",
    "    if label != 'regular_day':\n",
    "        #print(df4.state_holiday.unique()[i])\n",
    "        g=sns.kdeplot(df4[df4['state_holiday']==label]['sales'], label=str(label), fill=True)\n",
    "        #print(i)\n",
    "g.legend(loc=\"upper right\")\n",
    "\n",
    "# o grafico 1,\n",
    "# o grafico 2, não visualiza a legenda"
   ]
  },
  {
   "cell_type": "code",
   "execution_count": null,
   "metadata": {
    "id": "exzzKg8cdiEV"
   },
   "outputs": [],
   "source": [
    "#plot(df4['store_type'],\n",
    "#def plot(df,\n",
    "#a = df4[df4['store_type']!='regular_day'] #'regular_day' , KeyError: \"None of [Index(['regular_day'\n",
    "#a = df4[df4['store_type']!='regular_day'] #'regular_day' , KeyError: \"None of [Index(['regular_day'\n",
    "###plt.subplot(1,2,1)\n",
    "###sns.countplot(df4,x='store_type', orient='h') #orient=None , “v” | “h” | “x” | “y”\n",
    "###a.store_type.unique()\n",
    "# não apresenta informação de 'Christmas'] no grafico\n",
    "\n",
    "###plt.subplot(1,2,2)\n",
    "###for i in range(len(df4.store_type.unique())):\n",
    "    #grafico com as\n",
    "   ### label=df4.state_holiday.unique()[i]\n",
    "\n",
    "    #if label != 'regular_day':\n",
    "        #print(df4.state_holiday.unique()[i])\n",
    "    ###g=sns.kdeplot(df4[df4['store_type']==label]['sales'], label=str(label), fill=True)\n",
    "        #print(i)\n",
    "###g.legend(loc=\"upper right\")\n",
    "\n",
    "# o grafico 1,\n",
    "# o grafico 2, não visualiza a legenda"
   ]
  },
  {
   "cell_type": "code",
   "execution_count": null,
   "metadata": {
    "id": "WC_ahjHNdiEW"
   },
   "outputs": [],
   "source": [
    "#plot(df4['store_type'],\n",
    "#def plot(df,\n",
    "#a = df4[df4['store_type']!='regular_day'] #'regular_day' , KeyError: \"None of [Index(['regular_day'\n",
    "#a = df4[df4['assortment']!='regular_day'] #'regular_day' , KeyError: \"None of [Index(['regular_day'\n",
    "plt.subplot(1,2,1)\n",
    "sns.countplot(df4,x='store_type', orient='h') #orient=None , “v” | “h” | “x” | “y”\n",
    "a.store_type.unique()\n",
    "# não apresenta informação de 'Christmas'] no grafico\n",
    "\n",
    "plt.subplot(1,2,2)\n",
    "for i in range(len(df4.store_type.unique())):\n",
    "    #grafico com as\n",
    "    label=df4.store_type.unique()[i]\n",
    "\n",
    "    #if label != 'regular_day':\n",
    "        #print(df4.store_type.unique()[i])\n",
    "    g=sns.kdeplot(df4[df4['store_type']==label]['sales'], label=str(label), fill=True)\n",
    "        #print(i)\n",
    "g.legend(loc=\"upper right\")\n",
    "\n",
    "# o grafico 1,\n",
    "# o grafico 2, não visualiza a legenda"
   ]
  },
  {
   "cell_type": "code",
   "execution_count": null,
   "metadata": {
    "id": "iwpH3SQIdiEX"
   },
   "outputs": [],
   "source": [
    "#plot(df4['assortment'],\n",
    "#def plot(df,\n",
    "#a = df4[df4['assortment']!='regular_day'] #'regular_day' , KeyError: \"None of [Index(['regular_day'\n",
    "#a = df4[df4['assortment']!='regular_day'] #'regular_day' , KeyError: \"None of [Index(['regular_day'\n",
    "plt.subplot(1,2,1)\n",
    "sns.countplot(df4,x='assortment', orient='h') #orient=None , “v” | “h” | “x” | “y”\n",
    "a.assortment.unique()\n",
    "# não apresenta informação de 'Christmas'] no grafico\n",
    "\n",
    "plt.subplot(1,2,2)\n",
    "for i in range(len(df4.assortment.unique())):\n",
    "    #grafico com as\n",
    "    label=df4.assortment.unique()[i]\n",
    "\n",
    "    #if label != 'regular_day':\n",
    "        #print(df4.assortment.unique()[i])\n",
    "    g=sns.kdeplot(df4[df4['assortment']==label]['sales'], label=str(label), fill=True)\n",
    "        #print(i)\n",
    "g.legend(loc=\"upper right\")\n",
    "\n",
    "# o grafico 1,\n",
    "# o grafico 2, não visualiza a legenda"
   ]
  },
  {
   "cell_type": "code",
   "execution_count": null,
   "metadata": {
    "id": "n3w3qtiJdiEY"
   },
   "outputs": [],
   "source": [
    "df4.dtypes"
   ]
  },
  {
   "cell_type": "code",
   "execution_count": null,
   "metadata": {
    "id": "HOSAFL8EdiEY"
   },
   "outputs": [],
   "source": [
    "#store_type\n",
    "#change state_holiday to store_type object\n",
    "#a = df4[df4['store_type']] #'regular_day' , KeyError: \"None of [Index(['regular_day'\n",
    "#plt.subplot(1,2,1)# change 1 to second line\n",
    "#plt.subplot(2,2,1)"
   ]
  },
  {
   "cell_type": "code",
   "execution_count": null,
   "metadata": {
    "id": "SHmOWWlVdiEY"
   },
   "outputs": [],
   "source": [
    "#change state_holiday to store_type object\n",
    "###plt.subplot(1,2,1)\n",
    "###sns.countplot(df4[\"store_type\"], orient='h') #orient=None , “v” | “h” | “x” | “y”\n",
    "#a.state_holiday.unique()\n",
    "# não apresenta informação de 'Christmas' no grafico\n",
    "\n",
    "##plt.subplot(1,2,2) #change 1 to 2\n",
    "#plt.subplot(2,2,2)\n",
    "\n",
    "###plt.subplot(1,2,2)\n",
    "\n",
    "###try_=\"df4.\"  + \"store_type\" + \".unique()\"\n",
    "#for i in range(len(df4.state_holiday.unique())): change state_holiday to store_type#\n",
    "#for i in range(len(df4.store_type.unique())):\n",
    "###for i in range(len(try_)):\n",
    "    #grafico com as\n",
    "    #label=df4.state_holiday.unique()[i] change state_holiday to store_type###\n",
    "    ###label=df4.store_type.unique()[i]\n",
    "\n",
    "    ###if label != 'regular_day':\n",
    "        #print(df4.state_holiday.unique()[i])\n",
    "        #sns.kdeplot(df4[df4['state_holiday']==label]['sales'], label=label, fill=True) change state_holiday to store_type\n",
    "        ###sns.kdeplot(df4[df4['store_type']==label]['sales'], label=label, fill=True)\n",
    "    ###sns.kdeplot(df4[df4['store_type']==label]['sales'], label=label, fill=True)\n",
    "        #print(i)\n",
    "# o grafico 1,\n",
    "# o grafico 2, não visualiza a legenda\n",
    "#assortment                              object\n",
    "#df4.store_type.unique()"
   ]
  },
  {
   "cell_type": "code",
   "execution_count": null,
   "metadata": {
    "id": "dOvF-4vadiEZ"
   },
   "outputs": [],
   "source": [
    "#store_type\n",
    "#change state_holiday to store_type object\n",
    "####a = df4[df4['store_type']!='regular_day'] #'regular_day' , KeyError: \"None of [Index(['regular_day'\n",
    "#plt.subplot(1,2,1) change 1 to second line\n",
    "####plt.subplot(2,2,1)\n",
    "\n",
    "#change state_holiday to store_type object\n",
    "####sns.countplot(a.store_type, orient='h') #orient=None , “v” | “h” | “x” | “y”\n",
    "#a.state_holiday.unique()\n",
    "# não apresenta informação de 'Christmas'] no grafico\n",
    "\n",
    "#plt.subplot(1,2,2) change 1 to 2\n",
    "####plt.subplot(2,2,2)\n",
    "#for i in range(len(df4.state_holiday.unique())): change state_holiday to store_type\n",
    "####for i in range(len(df4.store_type.unique())):\n",
    "    #grafico com as\n",
    "    #label=df4.state_holiday.unique()[i] change state_holiday to store_type\n",
    "    ####label=df4.store_type.unique()[i]\n",
    "\n",
    "    ####if label != 'regular_day':\n",
    "        #print(df4.state_holiday.unique()[i])\n",
    "        #sns.kdeplot(df4[df4['state_holiday']==label]['sales'], label=label, fill=True) change state_holiday to store_type\n",
    "        ####sns.kdeplot(df4[df4['store_type']==label]['sales'], label=label, fill=True)\n",
    "        #print(i)\n",
    "# o grafico 1,\n",
    "# o grafico 2, não visualiza a legenda\n",
    "#assortment                              object\n",
    "#df4.store_type.unique()"
   ]
  },
  {
   "cell_type": "markdown",
   "metadata": {
    "id": "kBt7vXrHdiEZ",
    "jp-MarkdownHeadingCollapsed": true
   },
   "source": [
    "### 4.1.3. Categorical Variable, diamonds = sns.load_dataset('diamonds')"
   ]
  },
  {
   "cell_type": "code",
   "execution_count": null,
   "metadata": {
    "id": "J0karIWLdiEZ"
   },
   "outputs": [],
   "source": [
    "#https://www.youtube.com/watch?v=8U5h3EJuu8M\n",
    "#Seaborn countplot | What is the countplot? | Seaborn countplot vs barplot\n",
    "diamonds = sns.load_dataset('diamonds')\n",
    "diamonds.sample()"
   ]
  },
  {
   "cell_type": "code",
   "execution_count": null,
   "metadata": {
    "id": "3_tazEBMdiEa"
   },
   "outputs": [],
   "source": [
    "diamonds.clarity.isin(['SI1', 'VS2']).shape"
   ]
  },
  {
   "cell_type": "code",
   "execution_count": null,
   "metadata": {
    "id": "Ng1aVHEidiEa"
   },
   "outputs": [],
   "source": [
    "diamonds[diamonds.clarity.isin(['SI1', 'VS2'])].shape"
   ]
  },
  {
   "cell_type": "code",
   "execution_count": null,
   "metadata": {
    "id": "zwH4qXaTdiEb"
   },
   "outputs": [],
   "source": [
    "sns.set_style('darkgrid')\n",
    "plt.subplot(1,2,1)\n",
    "sns.countplot(x='color', data=diamonds)\n",
    "plt.subplot(1,2,2)\n",
    "sns.countplot(x='color', data=diamonds[diamonds.clarity.isin(['SI1', 'VS2'])])"
   ]
  },
  {
   "cell_type": "code",
   "execution_count": null,
   "metadata": {
    "id": "8H_EN24ndiEb"
   },
   "outputs": [],
   "source": []
  },
  {
   "cell_type": "code",
   "execution_count": null,
   "metadata": {
    "id": "lxwxvdBcdiEb"
   },
   "outputs": [],
   "source": [
    "diamonds.dtypes"
   ]
  },
  {
   "cell_type": "code",
   "execution_count": null,
   "metadata": {
    "id": "ksIZVs04diEe"
   },
   "outputs": [],
   "source": [
    "plt.subplot(1,3,1)\n",
    "#cut\n",
    "sns.countplot(diamonds.cut) #, orient=\"y\") #orient“v” | “h” | “x” | “y”\n",
    "#color\n",
    "plt.subplot(1,3,2)\n",
    "sns.countplot(diamonds.color) #, orient=\"y\")\n",
    "#diamonds.color.drop_duplicates()\n",
    "diamonds['color'].drop_duplicates()\n",
    "#clarity"
   ]
  },
  {
   "cell_type": "code",
   "execution_count": null,
   "metadata": {
    "id": "eUGCDI6QdiEe"
   },
   "outputs": [],
   "source": [
    "diamonds.color.cat.categories"
   ]
  },
  {
   "cell_type": "code",
   "execution_count": null,
   "metadata": {
    "id": "CN6bZHUvdiEf"
   },
   "outputs": [],
   "source": [
    "diamonds.cut.cat.categories"
   ]
  },
  {
   "cell_type": "code",
   "execution_count": null,
   "metadata": {
    "id": "cm8jjZVZdiEf"
   },
   "outputs": [],
   "source": [
    "diamonds.clarity.cat.categories"
   ]
  },
  {
   "cell_type": "markdown",
   "metadata": {
    "id": "ONoaim1YdiEf"
   },
   "source": [
    "### 4.2. Análise Bivariada"
   ]
  },
  {
   "cell_type": "markdown",
   "metadata": {
    "id": "QWFRDS4KdiEg"
   },
   "source": [
    "#### **2.2. Lista Final de Hipóteses**\n",
    "#### **H1. Lojas com maior sortimento deveriam vender mais.**\n",
    "#### **FALSA**, lojas com MAIOR SORTIMENTO vendem MENOS\n",
    "[1., 3.] Lojas com [maior sortimento/ competidores à + tempo] deveriam vender +."
   ]
  },
  {
   "cell_type": "code",
   "execution_count": null,
   "metadata": {
    "id": "JAeRmkO1diEg"
   },
   "outputs": [],
   "source": [
    "#[1., 3.] Lojas com [maior sortimento/ competidores à + tempo] deveriam vender +.\n",
    "aux1 = df4[['assortment', 'sales']].groupby('assortment').sum().reset_index()\n",
    "#soma de todas as vendas que tem o assortment do tipo ...\n",
    "sns.barplot(x='assortment', y='sales', data=aux1);"
   ]
  },
  {
   "cell_type": "markdown",
   "metadata": {
    "id": "iO7sXw6ddiEg"
   },
   "source": [
    "#assortment do tipo basic e o extended tem mais ou menos o mesmo tipo de vendas e o extra tem o volume de vendas bem menor\n",
    "supondo que o extra é o maior assortment vemos um tendencia decrescente\n",
    "Será que houve uma mudança do comportamento ao longo do tempo"
   ]
  },
  {
   "cell_type": "code",
   "execution_count": null,
   "metadata": {
    "id": "aouAkx8udiEh"
   },
   "outputs": [],
   "source": [
    "# como o tempo, semanas do ano, afecta o fenomeno do assortment relativamente as vendas\n",
    "aux2 = df4[['year_week', 'assortment', 'sales']].groupby(['year_week','assortment']).sum().reset_index()"
   ]
  },
  {
   "cell_type": "code",
   "execution_count": null,
   "metadata": {
    "id": "8mRAMug8diEh"
   },
   "outputs": [],
   "source": [
    "aux2.pivot(index='year_week', columns='assortment', values='sales').plot()"
   ]
  },
  {
   "cell_type": "code",
   "execution_count": null,
   "metadata": {
    "id": "lxivimAgdiEh"
   },
   "outputs": [],
   "source": [
    "#o assortment extra sugere uma linha linear e horizontal"
   ]
  },
  {
   "cell_type": "code",
   "execution_count": null,
   "metadata": {
    "id": "V61JE8oQdiEh"
   },
   "outputs": [],
   "source": [
    "aux3=aux2[aux2['assortment']=='extra']"
   ]
  },
  {
   "cell_type": "code",
   "execution_count": null,
   "metadata": {
    "id": "R0Hs9tX2diEi"
   },
   "outputs": [],
   "source": [
    "\n",
    "aux3.pivot(index='year_week', columns='assortment', values='sales').plot()"
   ]
  },
  {
   "cell_type": "markdown",
   "metadata": {
    "id": "eJCFU3K8diEi"
   },
   "source": [
    "2.2. Lista Final de Hipóteses\n",
    "[0, 3.] Lojas com [0 / competidores à + tempo] deveriam vender +."
   ]
  },
  {
   "cell_type": "markdown",
   "metadata": {
    "id": "BDF0_NxmdiEi"
   },
   "source": [
    "[2., ] Lojas com competidores + próximo deveriam vender - ."
   ]
  },
  {
   "cell_type": "markdown",
   "metadata": {
    "id": "Ipj12eEmdiEi"
   },
   "source": [
    "2.2. Lista Final de Hipóteses\n",
    "[1., 3.] Lojas com [maior sortimento/ competidores à + tempo] deveriam vender +."
   ]
  },
  {
   "cell_type": "markdown",
   "metadata": {
    "id": "XSsTqTt2diEi"
   },
   "source": [
    "\n",
    "\n",
    "\n",
    "\n",
    "** Produtos **\n",
    "\n",
    "[4., 5., 6.] Lojas [promoções activas por mais tempo, com + [dias de promoção, promoções consecutivas]] deveriam vender +\n",
    "\n",
    "** Tempo **\n",
    "\n",
    "7. Lojas abertas durante o feriado de Natal deveriam vender menos.\n",
    "\n",
    "8. Lojas ao longo do ano deveriam vender mais.\n",
    "\n",
    "9. Lojas no segundo semestre do ano deveriam vender mais.\n",
    "\n",
    "10. Lojas depois do dia 10 de cada mes deveriam vender mais.\n",
    "\n",
    "11. Lojas nos finais de semana deveriam vender menos.\n",
    "\n",
    "12. Lojas nos Feriados escolares deveriam vender menos."
   ]
  },
  {
   "cell_type": "markdown",
   "metadata": {
    "id": "s-rz-2gRdiEi",
    "jp-MarkdownHeadingCollapsed": true
   },
   "source": [
    "#### **H2. Lojas com competidores + próximos deveriam vender menos.**\n",
    "#### **FALSA, Lojas com competidores + próximos deveriam vender mais.**\n"
   ]
  },
  {
   "cell_type": "code",
   "execution_count": null,
   "metadata": {
    "id": "NPBRbza6diEi"
   },
   "outputs": [],
   "source": [
    "#### **2.2. Lista Final de Hipóteses**\n",
    "#### **H1. Lojas com maior sortimento deveriam vender mais.**\n",
    "#### **FALSA, lojas com MAIOR SORTIMENTO vendem MENOS**"
   ]
  },
  {
   "cell_type": "code",
   "execution_count": null,
   "metadata": {},
   "outputs": [],
   "source": []
  },
  {
   "cell_type": "code",
   "execution_count": null,
   "metadata": {},
   "outputs": [],
   "source": [
    "df4.sample()"
   ]
  },
  {
   "cell_type": "code",
   "execution_count": null,
   "metadata": {
    "id": "xJ6dzidYdiEj"
   },
   "outputs": [],
   "source": [
    "com_dis='competition_distance'\n",
    "y = 'sales'\n",
    "\n",
    "bins = list(np.arange(0, 20000, 1000))\n",
    "com_dis_bin='competition_distance_binned'\n",
    "\n",
    "aux1[com_dis_bin]=pd.cut(df4[com_dis], bins=bins)\n",
    "aux2 = aux1[[com_dis_bin, y]].groupby(com_dis_bin).sum().reset_index()\n",
    "\n",
    "aux3=df4[[com_dis,y]].groupby(com_dis).sum().reset_index()\n",
    "plt.subplot(1,4,1)\n",
    "sns.barplot(x=com_dis_bin, y=y, data=aux2); #como são as vendas por cada distância\n",
    "plt.xticks(rotation=90)\n",
    "\n",
    "plt.subplot(1,4,2)\n",
    "sns.scatterplot(x=com_dis, y=y, data=aux3);\n",
    "plt.xticks(rotation=90)\n",
    "\n",
    "plt.subplot(1,4,3)\n",
    "x = sns.heatmap(aux3.corr(method='pearson'), annot=True);\n",
    "#bootom, top = x.get #AttributeError: 'Axes' object has no attribute 'get'\n",
    "# medir a força de correlação"
   ]
  },
  {
   "cell_type": "markdown",
   "metadata": {
    "id": "NkbsGjvadiEj",
    "jp-MarkdownHeadingCollapsed": true
   },
   "source": [
    "#### **H3. Lojas com competidores à + tempo deveriam vender +.**\n",
    "#competition_open_since, competition_time_month, competition_open_since_month, competition_open_since_year\n",
    "#### **False, lojas com COMPETIDORES à + tempo vendem MENOS"
   ]
  },
  {
   "cell_type": "code",
   "execution_count": null,
   "metadata": {
    "id": "p1Z_8N5LdiEj"
   },
   "outputs": [],
   "source": [
    "df4.sample()"
   ]
  },
  {
   "cell_type": "code",
   "execution_count": null,
   "metadata": {
    "id": "pButoMIJdiEj"
   },
   "outputs": [],
   "source": [
    "#competition_open_since_month\n",
    "com_ope_sin_mon='competition_open_since_month'\n",
    "y = 'sales'\n",
    "\n",
    "#bins = list(np.arange(0, 20000, 1000))\n",
    "#com_dis_bin='competition_distance_binned'\n",
    "#aux1[com_dis_bin]=pd.cut(aux1[com_dis], bins=bins)\n",
    "#aux2 = aux1[[com_dis_bin, y]].groupby(com_dis_bin).sum().reset_index()\n",
    "\n",
    "aux3=df4[[com_ope_sin_mon,y]].groupby(com_ope_sin_mon).sum().reset_index()\n",
    "plt.subplot(1,4,1)\n",
    "sns.barplot(x=com_ope_sin_mon, y=y, data=aux3);\n",
    "#plt.xticks(rotation=90)"
   ]
  },
  {
   "cell_type": "code",
   "execution_count": null,
   "metadata": {
    "id": "-ngE05RhdiEj"
   },
   "outputs": [],
   "source": [
    "#competition_open_since_month\n",
    "comp_tim_mon='competition_time_month'\n",
    "y = 'sales'\n",
    "\n",
    "#bins = list(np.arange(0, 20000, 1000))\n",
    "#com_dis_bin='competition_distance_binned'\n",
    "#aux1[com_dis_bin]=pd.cut(aux1[com_dis], bins=bins)\n",
    "#aux2 = aux1[[com_dis_bin, y]].groupby(com_dis_bin).sum().reset_index()\n",
    "\n",
    "aux1=df4[['competition_time_month',y]].groupby('competition_time_month').sum().reset_index()\n",
    "plt.subplot(1,4,1)\n",
    "\n",
    "\n",
    "#filtrando, todas as linhas e colunas, os primeiros 12 meses de competição e com tempo de competição diferente ao da realização da venda\n",
    "aux2 = aux1[( aux1['competition_time_month']<12) & (aux1[comp_tim_mon]!=0)]\n",
    "sns.barplot(x=comp_tim_mon, y=y, data=aux2);\n",
    "#plt.xticks(rotation=60)\n",
    "\n",
    "plt.subplot(1,4,2)\n",
    "#exite alguma tendencia de crescimento?\n",
    "sns.regplot(x=comp_tim_mon, y=y, data=aux2);\n",
    "\n",
    "plt.subplot(1,4,3)\n",
    "#sns.heatmap(x='competition_time_month', y=y, data=aux2);\n",
    "#em termos de relevância para o modelo,\n",
    "# é relevante pois tem uma correlação não tão próxima de zero\n",
    "x = sns.heatmap(aux1.corr(method='pearson'), annot=True);\n",
    "\n"
   ]
  },
  {
   "cell_type": "code",
   "execution_count": null,
   "metadata": {
    "id": "Pe2NqJ6XdiEk"
   },
   "outputs": [],
   "source": [
    "#Quanto + recente forem as competições, a abertura das lojas do competidores, maior são as suas vendas."
   ]
  },
  {
   "cell_type": "markdown",
   "metadata": {
    "id": "nd208xPHdiEk"
   },
   "source": [
    "#### **H4. Lojas com promoções activas por mais tempo, com + dias de promoção, deveriam vender + **\n",
    "#### Falsa, lojas com promoções activas por mais tempo vendem menos, depois de um certo período de promoção\n",
    "#### vende regularmente até um certo tempo, depois decai\n",
    "#### validar a hipotese vs\n",
    "#### a variável é relevante para o modelo ?"
   ]
  },
  {
   "cell_type": "code",
   "execution_count": null,
   "metadata": {
    "id": "qyCbWvGjdiEk"
   },
   "outputs": [],
   "source": [
    "#### **H4. Lojas promoções activas por mais tempo, com + dias de promoção deveriam vender + o **\n",
    "df4[['date','promo','is_promo','promo2', 'promo2_since_week','promo2_since_year', 'promo_since', 'promo_time_week']].sample(15)\n",
    "#df4.sample()#.co\n",
    "#['promo2', 'promo2_since_week',\t'promo2_since_year', 'promo_since', 'promo_time_week']\n",
    "aux1=df4[['promo_time_week','sales']].groupby('promo_time_week').sum().reset_index()\n",
    "sns.barplot(x='promo_time_week', y='sales', data=aux1);\n",
    "#promo_since\tpromo_time_week\n",
    "#promo2\tpromo2_since_week\tpromo2_since_year"
   ]
  },
  {
   "cell_type": "code",
   "execution_count": null,
   "metadata": {
    "id": "y-oXu-gPdiEl"
   },
   "outputs": [],
   "source": [
    "y='promo_time_week'\n",
    "x='sales'\n",
    "aux2=aux1[aux1['promo_time_week']>0] # Promo extendido\n",
    "aux3=aux1[aux1['promo_time_week']<0] # Promo regular, tradicional\n",
    "\n",
    "#plt.subplot(1,2,1)\n",
    "#sns.barplot(x='promo_time_week', y='sales', data=aux2, label='Promo extendido ');\n",
    "#plt.xticks(rotation=90);\n",
    "\n",
    "plt.subplot(1,2,1)\n",
    "sns.barplot(x='promo_time_week', y='sales', data=aux3, label='Promo regular, tradicional');\n",
    "#plt.subplot(1,2,1)\n",
    "plt.xticks(rotation=90);\n",
    "\n",
    "plt.subplot(1,2,2)\n",
    "sns.barplot(x='promo_time_week', y='sales', data=aux2, label='Promo extendido ');\n",
    "plt.xticks(rotation=90);\n"
   ]
  },
  {
   "cell_type": "code",
   "execution_count": null,
   "metadata": {
    "id": "-7ghFtGFdiEl"
   },
   "outputs": [],
   "source": [
    "plt.subplot(2,1,2)\n",
    "sns.barplot(x='promo_time_week', y='sales', data=aux2, label='Promo extendido ');\n",
    "plt.xticks(rotation=90);\n",
    "\n",
    "plt.subplot(2,1,1)\n",
    "sns.barplot(x='promo_time_week', y='sales', data=aux3, label='Promo regular, tradicional ');\n",
    "#plt.subplot(1,2,1)\n",
    "plt.xticks(rotation=90);\n",
    "\n",
    "#plt.subplot(1,2,2)\n",
    "#sns.barplot(x='promo_time_week', y='sales', data=aux2, label='Promo extendido ');\n",
    "#plt.xticks(rotation=90);\n"
   ]
  },
  {
   "cell_type": "code",
   "execution_count": null,
   "metadata": {
    "id": "a80UB48EdiEm"
   },
   "outputs": [],
   "source": [
    "# os gráficos acima sugerem uma tendência\n",
    "#verificando se realmente existe alguma tendência nos gráficos\n",
    "plt.subplot(1,2,1)\n",
    "sns.regplot(x='promo_time_week', y='sales', data=aux3, label='Promo regular, tradicional');\n",
    "#plt.subplot(1,2,1)\n",
    "plt.xticks(rotation=90);\n",
    "\n",
    "plt.subplot(1,2,2)\n",
    "sns.regplot(x='promo_time_week', y='sales', data=aux2, label='Promo extendido ');\n",
    "plt.xticks(rotation=90);\n"
   ]
  },
  {
   "cell_type": "code",
   "execution_count": null,
   "metadata": {
    "id": "X5v4oOcQdiEn"
   },
   "outputs": [],
   "source": [
    "# Procurando encontrar a força do comportamento da correlação, usado o método corr, obedecendo a formula de pearson 19:31,\n",
    "sns.heatmap(aux1.corr( method='pearson'), annot=True);\n",
    "# correlação de 0.029 é uma correlação muito fraca"
   ]
  },
  {
   "cell_type": "code",
   "execution_count": null,
   "metadata": {
    "id": "2bewO5jjdiEp"
   },
   "outputs": [],
   "source": [
    "# Procurando encontrar a força do comportamento da correlação, usado o método corr, obedecendo a formula de pearson 19:31,\n",
    "sns.heatmap(aux2.corr( method='pearson'), annot=True);\n",
    "# correlação de 0.029 é uma correlação negativa e forte"
   ]
  },
  {
   "cell_type": "code",
   "execution_count": null,
   "metadata": {
    "id": "UQ8vsjSBdiEp"
   },
   "outputs": [],
   "source": [
    "# Procurando encontrar a força da correlação, usado o método corr, obedecendo a formula de pearson 19:31,\n",
    "sns.heatmap(aux3.corr( method='pearson'), annot=True);\n",
    "# correlação de 0.94 é uma correlação positiva e muito forte"
   ]
  },
  {
   "cell_type": "code",
   "execution_count": null,
   "metadata": {
    "id": "Vww5FN1VdiEq"
   },
   "outputs": [],
   "source": [
    "#import matplotlib.gridspec # as gridspec\n",
    "from  matplotlib.gridspec import GridSpec # as gridspec, ModuleNotFoundError: No module named 'matplotlib.gridspec.GridSpec'; 'matplotlib.gridspec' is not a package"
   ]
  },
  {
   "cell_type": "code",
   "execution_count": null,
   "metadata": {
    "id": "WUwsqVVldiEs"
   },
   "outputs": [],
   "source": []
  },
  {
   "cell_type": "code",
   "execution_count": null,
   "metadata": {},
   "outputs": [],
   "source": [
    "# grid=gridspec.GridSpec(2,3) #2 linhas e 3 colunas\n",
    "grid=GridSpec(2,3) #2 linhas e 3 colunas\n",
    "\n",
    "plt.subplot(grid[0,0])\n",
    "# aux2=\n",
    "\n",
    "x='promo_time_week'\n",
    "y='sales'\n",
    "\n",
    "# ValueError: Could not interpret value `promo_time_week` for `x`. An entry with this name does not appear in `data`.\n",
    "# aux1.sample()\n",
    "sns.barplot(x=x, y=y, data=df4);\n",
    "#plt.xticks(rotation=90)\n",
    "\n",
    "plt.subplot(grid[0,1])\n",
    "sns.regplot(x=x, y=y, data=aux2);\n",
    "\n",
    "plt.subplot(grid[1,0])\n",
    "sns.barplot(x=x, y=y, data=aux3);\n",
    "\n",
    "plt.subplot(grid[1,1])\n",
    "sns.regplot(x=x, y=y, data=aux3);\n",
    "\n",
    "plt.subplot(grid[:,2])\n",
    "sns.heatmap(aux1.corr(method='pearson'), annot=True)"
   ]
  },
  {
   "cell_type": "code",
   "execution_count": null,
   "metadata": {},
   "outputs": [],
   "source": [
    "#aux3"
   ]
  },
  {
   "cell_type": "markdown",
   "metadata": {
    "id": "7_UxtQEpdiEs"
   },
   "source": [
    "#### ** <s> H5. Lojas com + dias de promoção, deveriam vender + #### ** Tempo **  </s>\n",
    "#### ** H4. Lojas com promoções activas por mais tempo, com + dias de promoção, deveriam vender + **\n",
    "#### Falsa, lojas com promoções activas por mais tempo vendem menos, depois de um certo período de promoção\n",
    "#### vende regularmente até um certo tempo, depois decai\n",
    "#### validar a hipotese vs"
   ]
  },
  {
   "cell_type": "code",
   "execution_count": null,
   "metadata": {
    "id": "PdcEKCTkdiEt"
   },
   "outputs": [],
   "source": [
    "df4.sample(5)"
   ]
  },
  {
   "cell_type": "markdown",
   "metadata": {
    "id": "1iO4rNvqdiEt"
   },
   "source": [
    "#### **H6. Lojas com + dias de promoções consecutivas deveriam vender + ** Tempo **\n",
    "#### ** FALSA ** , Lojas com + promoções consecutivas vendem menos"
   ]
  },
  {
   "cell_type": "code",
   "execution_count": null,
   "metadata": {
    "id": "21Ql3pZhdiEt"
   },
   "outputs": [],
   "source": [
    "df4[['promo','promo2','sales']].groupby(['promo','promo2']).sum().reset_index().sort_values(by=['sales'], ascending=True) #df.sort_values(by=['Column_name'], ascending=True)"
   ]
  },
  {
   "cell_type": "code",
   "execution_count": null,
   "metadata": {
    "id": "0swyVquvdiEt"
   },
   "outputs": [],
   "source": [
    "# a diferença existente entre as 4 vendas é significativa ?"
   ]
  },
  {
   "cell_type": "code",
   "execution_count": null,
   "metadata": {
    "id": "wcOUwPqldiEu"
   },
   "outputs": [],
   "source": [
    "#será que ao longo do tempo, o comportamento das vendas mudou tendo activado as duas promoções, a regular e a tradicional?\n",
    "df4[((df4['promo']==1) & (df4['promo2']==1))]"
   ]
  },
  {
   "cell_type": "code",
   "execution_count": null,
   "metadata": {
    "id": "yQ4DVdB7diEu"
   },
   "outputs": [],
   "source": [
    "aux1=df4[( df4['promo'] == 1 ) & ( df4['promo2'] == 1 )][['year_week', 'sales']]\n",
    "aux1.plot()"
   ]
  },
  {
   "cell_type": "code",
   "execution_count": null,
   "metadata": {
    "id": "NWXrK3bddiEu"
   },
   "outputs": [],
   "source": [
    "#agrupar, somar e fazer o reset_index\n",
    "aux2=df4[( df4['promo'] == 1 ) & ( df4['promo2'] == 1 )][['year_week', 'sales']].groupby('year_week').sum().reset_index()\n",
    "aux2.plot()"
   ]
  },
  {
   "cell_type": "code",
   "execution_count": null,
   "metadata": {
    "id": "O3D-iO6jtNV1"
   },
   "outputs": [],
   "source": [
    "aux3=df4[( df4['promo'] == 1 ) & ( df4['promo2'] == 0 )][['year_week', 'sales']].groupby('year_week').sum().reset_index()\n",
    "#ax = aux3.plot()\n",
    "aux4=df4[( df4['promo'] == 0 ) & ( df4['promo2'] == 0 )][['year_week', 'sales']].groupby('year_week').sum().reset_index()\n",
    "aux5=df4[( df4['promo'] == 0 ) & ( df4['promo2'] == 1 )][['year_week', 'sales']].groupby('year_week').sum().reset_index()\n",
    "ax = aux3.plot()\n",
    "aux2.plot(ax=ax)\n",
    "aux4.plot(ax=ax)\n",
    "aux5.plot(ax=ax)\n",
    "ax.legend(labels=(\"Tradicional & Extraordinario\",\"Tradicional\",\"Sem promoção\",\"Extraordinario\"))"
   ]
  },
  {
   "cell_type": "markdown",
   "metadata": {
    "id": "SnHCCNmZdiEv"
   },
   "source": [
    "#### ** H7. Lojas abertas durante o feriado de natal deveriam vender menos .**\n",
    "#### ** **"
   ]
  },
  {
   "cell_type": "code",
   "execution_count": null,
   "metadata": {},
   "outputs": [],
   "source": [
    "march_dates = (\n",
    "        df4['date'].dt.month.eq(12) &\n",
    "        df4['date'].dt.day.between(25, 31)\n",
    ")\n",
    "april_dates = (\n",
    "        df4['date'].dt.month.eq(4) &\n",
    "        df4['date'].dt.day.between(1, 25)\n",
    ")\n",
    "m = march_dates #| april_dates\n",
    "\n",
    "filtered_df = df4[m][['date','sales']]#.groupby('date').sum().reset_index()\n",
    "filtered_df.plot(y='sales',x='date')"
   ]
  },
  {
   "cell_type": "code",
   "execution_count": null,
   "metadata": {},
   "outputs": [],
   "source": [
    "march_dates = (\n",
    "        df4['date'].dt.month.eq(12) &\n",
    "        df4['date'].dt.day.between(25, 31)\n",
    ")\n",
    "april_dates = (\n",
    "        df4['date'].dt.month.eq(4) &\n",
    "        df4['date'].dt.day.between(1, 25)\n",
    ")\n",
    "m = march_dates #| april_dates\n",
    "\n",
    "filtered_df = df4[m][['date','sales']]#.groupby('date').sum().reset_index()\n",
    "filtered_df.plot(y='sales',x='date')\n"
   ]
  },
  {
   "cell_type": "code",
   "execution_count": null,
   "metadata": {},
   "outputs": [],
   "source": [
    "#df4[df4['state_holiday']!='regular_day'][['date','sales','state_holiday','school_holiday']].groupby('state_holiday').sum().reset_index()#.sample(5)\n",
    "#aux=df4[df4['state_holiday']!='regular_day'][['sales','state_holiday']].groupby('state_holiday').sum().reset_index()#.sample(5)\n",
    "#aux.plot(y='sales',x='state_holiday')\n",
    "#sns.catplot(kind=\"bar\", x='state_holiday',y='sales', data=aux)\n",
    "#\n",
    "#cols=pd.unique(df4['state_holiday'])\n",
    "aux2=df4[df4['state_holiday']!='regular_day'][['sales','state_holiday','year']].groupby('year').sum().reset_index()#.sample(5)\n",
    "#g = \n",
    "#sns.catplot(kind=\"bar\", x='year',y='sales', data=aux2, hue='state_holiday', alpha=.4, height=4) #label=cols )#'state_holiday')\n",
    "\n",
    "#RuntimeError: In draw_glyphs_to_bitmap: Could not convert glyph to bitmap (raster overflow; error code 0x62\n",
    "\n",
    "#g.fig.set_figheight(3.5)\n",
    "#g.fig.set_figwidth(3)AU\n",
    "\n",
    "#g.despine(left=True)"
   ]
  },
  {
   "cell_type": "code",
   "execution_count": null,
   "metadata": {},
   "outputs": [],
   "source": []
  },
  {
   "cell_type": "code",
   "execution_count": null,
   "metadata": {},
   "outputs": [],
   "source": [
    "aux3=df4[df4['state_holiday']!='regular_day'][['sales','state_holiday']].groupby('state_holiday').sum().reset_index()#.sample(5)"
   ]
  },
  {
   "cell_type": "code",
   "execution_count": null,
   "metadata": {},
   "outputs": [],
   "source": [
    "aux3"
   ]
  },
  {
   "cell_type": "code",
   "execution_count": null,
   "metadata": {},
   "outputs": [],
   "source": [
    "aux2"
   ]
  },
  {
   "cell_type": "code",
   "execution_count": null,
   "metadata": {},
   "outputs": [],
   "source": [
    "plt.subplot(2,1,1)\n",
    "#hue=\n",
    "#sns.catplot(kind=\"bar\", x='year',y='sales', data=aux2) #, alpha=.4, height=4) #label=cols )#'state_holiday')\n",
    "#sns.catplot(kind=\"bar\", x='year',y='sales', data=aux2) #, alpha=.4, height=4) #label=cols )#'state_holiday')\n",
    "sns.barplot(x='year', y='sales', hue='state_holiday', data=aux2, alpha=0.7)\n",
    "plt.show()\n",
    "plt.subplot(2,1,2) \n",
    "#hue=\n",
    "#sns.catplot(kind=\"bar\", x='state_holiday',y='sales', data=aux3) #, alpha=.4, height=4) #label=cols )#'state_holiday')\n",
    "sns.barplot(x='state_holiday', y='sales', hue='year', data=aux3, alpha=0.7)\n",
    "plt.show()"
   ]
  },
  {
   "cell_type": "markdown",
   "metadata": {
    "id": "9glbhLsqdiEv"
   },
   "source": [
    "#### ** H8. Lojas ao longo do ano deveriam vender + \n",
    "#### ** ** Falsa, as lojas ao longo do ano vendem -\n"
   ]
  },
  {
   "cell_type": "code",
   "execution_count": null,
   "metadata": {},
   "outputs": [],
   "source": [
    "#as vendas do ano 2015 terminam em Agosto, pode ser a causa de baixa venda comparando com os restantes anos"
   ]
  },
  {
   "cell_type": "code",
   "execution_count": null,
   "metadata": {},
   "outputs": [],
   "source": [
    "# grid=gridspec.GridSpec(2,3) #2 linhas e 3 colunas\n",
    "grid=GridSpec(2,3) #2 linhas e 3 colunas\n",
    "\n",
    "plt.subplot(grid[0,0])\n",
    "# aux2=\n",
    "\n",
    "x='promo_time_week'\n",
    "y='sales'\n",
    "\n",
    "# ValueError: Could not interpret value `promo_time_week` for `x`. An entry with this name does not appear in `data`.\n",
    "# aux1.sample()\n",
    "#sns.barplot(x=x, y=y, data=df4);\n",
    "#plt.xticks(rotation=90)\n",
    "\n",
    "#plt.subplot(1,3,1)\n",
    "#aux2=df4[df4['state_holiday']!='regular_day'][['sales','state_holiday','year']].groupby('year').sum().reset_index()#.sample(5)\n",
    "#g = \n",
    "#sns.catplot(kind=\"bar\", x='year',y='sales', data=df4) #aux2, )#hue='state_holiday', alpha=.4, height=4) #label=cols )#'state_holiday')\n",
    "#https://seaborn.pydata.org/examples/grouped_barplot.html\n",
    "\n",
    "plt.subplot(grid[0,1])\n",
    "#sns.regplot(x=x, y=y, data=aux2);\n",
    "#plt.subplot(1,3,2)\n",
    "sns.regplot(x='year', y='sales', data=aux1, label='Promo extendido ');\n",
    "#plt.xticks(rotation=90);\n",
    "\n",
    "\n",
    "#plt.subplot(grid[1,0])\n",
    "#sns.barplot(x=x, y=y, data=aux3);\n",
    "\n",
    "plt.subplot(grid[0,2])\n",
    "#sns.regplot(x=x, y=y, data=aux3);\n",
    "\n",
    "#plt.subplot(grid[:,2])\n",
    "#sns.heatmap(aux1.corr(method='pearson'), annot=True)\n",
    "#plt.subplot(1,3,3)\n",
    "aux1=df4[['sales','year']].groupby('year').sum().reset_index()\n",
    "#x = \n",
    "sns.heatmap(aux1.corr(method='pearson'), annot=True);\n",
    "\n",
    "\n",
    "#g.fig.set_figheight(3.5)\n",
    "#g.fig.set_figwidth(3)\n",
    "\n",
    "#g.despine(left=True)\n",
    "\n"
   ]
  },
  {
   "cell_type": "markdown",
   "metadata": {
    "id": "ksRC31u0diEw",
    "jp-MarkdownHeadingCollapsed": true
   },
   "source": [
    "#### ** H9. Lojas no 2o semestre deveriam vender + #### ** **\n",
    "#### Falsa, as lojas no 2o semestre vendem -,\n",
    "#### cada 1 dos meses tem vendas inferiores a 5.0 no 1o semestre do acumulado de vendas por mês é superior a 5.0 logo\n",
    "#### as vendas do 1 semestre são superiores as do 2o semestre\n",
    "#### contudo, como o ano 2015 esta imcompleto, sugere-se a adicinas os meses de 1 -> 7"
   ]
  },
  {
   "cell_type": "code",
   "execution_count": null,
   "metadata": {},
   "outputs": [],
   "source": [
    "#procurando valor do ano\n",
    "#df4['year'].sample()\n",
    "#não era necessário considerar os meses no intervalo de 1 a 12\n",
    "#aux=df4[df4['month'].between(1, 12)][['month','sales','year']].groupby(['year','month']).sum().reset_index()\n",
    "aux=df4[df4['month'].between(1, 12)][['month','sales','year']].groupby(['year','month']).sum().reset_index()\n",
    "plt.subplot(4,1,1)\n",
    "sns.pointplot(x='year',y='sales', hue='month', data=aux)\n",
    "plt.subplot(4,1,2)\n",
    "sns.pointplot(x='year',y='sales',data=aux)\n",
    "\n",
    "aux1=df4[['month','sales','year']].groupby(['year','month']).sum().reset_index()\n",
    "plt.subplot(4,1,3)\n",
    "sns.pointplot(x='year',y='sales', hue='month', data=aux1)\n",
    "plt.subplot(4,1,4)\n",
    "sns.pointplot(x='year',y='sales',data=aux1)"
   ]
  },
  {
   "cell_type": "code",
   "execution_count": null,
   "metadata": {},
   "outputs": [],
   "source": [
    "#como ter informação do segundo semestre\n",
    "#df4.sample()\n",
    "#agrupar por mes\n",
    "plt.subplot(4,1,1)\n",
    "aux=df4[df4['month'].between(1, 12)][['month','sales','year']].groupby('month').sum().reset_index()\n",
    "#df4[df4['month'].between(1, 12)][['month','sales','year']].groupby('month').sum().reset_index()\n",
    "sns.pointplot(x='month',y='sales',data=aux)\n",
    "\n",
    "#considerar as vendas por ano\n",
    "plt.subplot(4,1,2)\n",
    "#agrupar por ano\n",
    "sns.pointplot(x='year',y='sales', hue='month',data=aux)\n",
    "semestre1=df4[df4['date'].dt.month.between(1, 6)][['month','sales','year']].groupby('month').sum().reset_index()\n",
    "semestre2=df4[df4['date'].dt.month.between(7, 12)][['month','sales','year']].groupby('month').sum().reset_index()\n",
    "#df4['date'].dt.month.between(1, 6)\n",
    "plt.subplot(4,1,3)\n",
    "sns.pointplot(x='month',y='sales',data=semestre1, label='primeiro semestre')\n",
    "\n",
    "plt.subplot(4,1,4)\n",
    "sns.pointplot(x='month',y='sales',data=semestre2, label='primeiro semestre')"
   ]
  },
  {
   "cell_type": "markdown",
   "metadata": {
    "id": "cjByuHvodiEw"
   },
   "source": [
    "#### ** H10. Lojas da dia 10 de cada mês deveriam vender + **\n",
    "#### ** **"
   ]
  },
  {
   "cell_type": "markdown",
   "metadata": {
    "id": "TPhAv-mOdiEw"
   },
   "source": [
    "#### ** H7. Lojas com + dias de promoções consecutivas deveriam vender + ** Tempo **\n",
    "#### ** H7. Lojas com competidores + próximos deveriam vender menos.**"
   ]
  },
  {
   "cell_type": "markdown",
   "metadata": {
    "id": "SLvsSIMidiEw"
   },
   "source": [
    "#### ** H7. Lojas com + dias de promoções consecutivas deveriam vender + ** Tempo **\n",
    "#### ** H7. Lojas com competidores + próximos deveriam vender menos.**"
   ]
  },
  {
   "cell_type": "markdown",
   "metadata": {
    "id": "wTbDxcSQdiEx"
   },
   "source": [
    "#### **H2. Lojas com competidores + próximos deveriam vender menos.**"
   ]
  },
  {
   "cell_type": "markdown",
   "metadata": {
    "id": "wY_2tjSGdiEx"
   },
   "source": [
    "#### **H2. Lojas com competidores + próximos deveriam vender menos.**"
   ]
  },
  {
   "cell_type": "markdown",
   "metadata": {
    "id": "6F2iCE0fdiEx"
   },
   "source": [
    "#### [4., 5., 6.] Lojas [promoções activas por mais tempo, com + [dias de promoção, promoções consecutivas]] deveriam vender +\n",
    "** Tempo **"
   ]
  },
  {
   "cell_type": "markdown",
   "metadata": {
    "id": "OAime6sUdiEy"
   },
   "source": [
    "### 4.2. Análise Bivariada"
   ]
  },
  {
   "cell_type": "markdown",
   "metadata": {
    "id": "_1WbLQLMdiEz"
   },
   "source": [
    "### 4.2. Análise Bivariada"
   ]
  },
  {
   "cell_type": "markdown",
   "metadata": {
    "id": "yU3Hys0VdiEz"
   },
   "source": [
    "### 4.2. Análise Bivariada"
   ]
  },
  {
   "cell_type": "markdown",
   "metadata": {
    "id": "3q_33E5QdiEz"
   },
   "source": [
    "### 4.3. Análise Multivariada"
   ]
  },
  {
   "cell_type": "markdown",
   "metadata": {
    "id": "RPx8dg8EdiEz"
   },
   "source": [
    "#### **H4. Lojas com promoções activas por mais tempo, com + dias de promoção, deveriam vender + **\n",
    "#### Falsa, lojas com promoções activas por mais tempo vendem menos, depois de um certo período de promoção\n",
    "# vende regularmente até um certo tempo, depois decai\n",
    "# validar a hipotese vs\n",
    "# a variável é relevante para o modelo ?"
   ]
  }
 ],
 "metadata": {
  "colab": {
   "provenance": []
  },
  "kernelspec": {
   "display_name": "Python 3 (ipykernel)",
   "language": "python",
   "name": "python3"
  },
  "language_info": {
   "codemirror_mode": {
    "name": "ipython",
    "version": 3
   },
   "file_extension": ".py",
   "mimetype": "text/x-python",
   "name": "python",
   "nbconvert_exporter": "python",
   "pygments_lexer": "ipython3",
   "version": "3.11.6"
  }
 },
 "nbformat": 4,
 "nbformat_minor": 4
}
